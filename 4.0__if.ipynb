{
 "cells": [
  {
   "cell_type": "code",
   "execution_count": 1,
   "id": "ada2a9cb-9008-4c36-95b7-2f2b361fa198",
   "metadata": {},
   "outputs": [
    {
     "name": "stdout",
     "output_type": "stream",
     "text": [
      "you will be part of bactch A1\n"
     ]
    }
   ],
   "source": [
    "marks= 79\n",
    "              ## here every line of code run \n",
    "              ## even first line is true . everyline of code will run * memory\n",
    "        \n",
    "if marks >= 80  :\n",
    "    print(\"you are be part of batch A0\")\n",
    "if marks >= 60  and marks < 80 :\n",
    "    print (\"you will be part of bactch A1\")\n",
    "if marks >= 50 and marks < 60 :\n",
    "    print (\"you will be part of A2\")\n",
    "if marks < 50 :\n",
    "    print(\"you will be part of A3\") \n",
    "     "
   ]
  },
  {
   "cell_type": "code",
   "execution_count": 7,
   "id": "1ea11ecf-7d5c-4da4-9e4d-9934438f250a",
   "metadata": {},
   "outputs": [
    {
     "name": "stdin",
     "output_type": "stream",
     "text": [
      " 89\n"
     ]
    },
    {
     "name": "stdout",
     "output_type": "stream",
     "text": [
      "you are be part of batch A0\n"
     ]
    }
   ],
   "source": [
    "## less memory and more efficient. \n",
    "### here if any line turns true other line not run\n",
    "\n",
    "marks= int(input())\n",
    "\n",
    "if marks >= 80  :\n",
    "    print(\"you are be part of batch A0\")\n",
    "elif marks >= 60  and marks < 80 :\n",
    "    print (\"you will be part of bactch A1\")\n",
    "elif marks >= 50 and marks < 60 :\n",
    "    print (\"you will be part of A2\")\n",
    "else :\n",
    "    print(\"you will be part of A3\") "
   ]
  },
  {
   "cell_type": "code",
   "execution_count": null,
   "id": "d08e1005-0746-4b90-90e4-bb06c84029ae",
   "metadata": {},
   "outputs": [],
   "source": []
  },
  {
   "cell_type": "code",
   "execution_count": null,
   "id": "e9a4f23c-f5c6-4538-ac2c-8302eb355645",
   "metadata": {},
   "outputs": [],
   "source": [
    "marks=int(input())"
   ]
  },
  {
   "cell_type": "code",
   "execution_count": null,
   "id": "7683f50e-b73f-4c93-9930-7ea80a03f1d1",
   "metadata": {},
   "outputs": [],
   "source": [
    "type(marks)"
   ]
  },
  {
   "cell_type": "code",
   "execution_count": 4,
   "id": "995c58ae-f57b-4f5f-80d0-da48485b7ddb",
   "metadata": {},
   "outputs": [
    {
     "name": "stdin",
     "output_type": "stream",
     "text": [
      " 45\n"
     ]
    },
    {
     "name": "stdout",
     "output_type": "stream",
     "text": [
      "affordable\n"
     ]
    }
   ],
   "source": [
    "price = int(input())\n",
    "if price > 1000 :\n",
    "     print (\"not affordable now\")\n",
    "if price > 2000 : \n",
    "     print (\"price is okk\")\n",
    "if price > 5000 :\n",
    "     print (\"it's too much\")\n",
    "else :\n",
    "     print(\"affordable\")\n",
    "    \n",
    "    "
   ]
  },
  {
   "cell_type": "code",
   "execution_count": 17,
   "id": "7e2fd404-6b51-49d7-9606-e72e9f01923a",
   "metadata": {},
   "outputs": [],
   "source": [
    "\n",
    "#####****** loop ******######\n"
   ]
  },
  {
   "cell_type": "code",
   "execution_count": 5,
   "id": "48d26c9c-eba7-49cb-bfb4-7594c441b9fe",
   "metadata": {},
   "outputs": [],
   "source": [
    "l=[1,2,3,4,5,6,7,8,9,10]\n",
    "l2=[]"
   ]
  },
  {
   "cell_type": "code",
   "execution_count": 4,
   "id": "cd39af7b-cb6f-4579-8348-c759b2f32011",
   "metadata": {},
   "outputs": [],
   "source": [
    "l1=l[0]+1"
   ]
  },
  {
   "cell_type": "code",
   "execution_count": 3,
   "id": "2ba33eb4-4563-4515-8840-1ac60c70c8a2",
   "metadata": {},
   "outputs": [],
   "source": [
    "l2.append(l1)"
   ]
  },
  {
   "cell_type": "code",
   "execution_count": 4,
   "id": "eafe6525-5395-482e-a806-60133b2b3caa",
   "metadata": {},
   "outputs": [
    {
     "data": {
      "text/plain": [
       "[2]"
      ]
     },
     "execution_count": 4,
     "metadata": {},
     "output_type": "execute_result"
    }
   ],
   "source": [
    "l2"
   ]
  },
  {
   "cell_type": "code",
   "execution_count": 30,
   "id": "0e94ae39-47f2-4e36-86be-89bddae0a31c",
   "metadata": {},
   "outputs": [],
   "source": [
    "l1=l[1]+1\n"
   ]
  },
  {
   "cell_type": "code",
   "execution_count": 31,
   "id": "89c2cc12-32bb-4330-b40e-fa23a906c710",
   "metadata": {},
   "outputs": [
    {
     "data": {
      "text/plain": [
       "3"
      ]
     },
     "execution_count": 31,
     "metadata": {},
     "output_type": "execute_result"
    }
   ],
   "source": [
    "l1"
   ]
  },
  {
   "cell_type": "code",
   "execution_count": 32,
   "id": "4b1eb9b8-4049-4234-9851-5a6dffc474e7",
   "metadata": {},
   "outputs": [],
   "source": [
    "l2.append(l1)"
   ]
  },
  {
   "cell_type": "code",
   "execution_count": 33,
   "id": "9d05f205-ca54-471a-88c2-f7c8e9778694",
   "metadata": {},
   "outputs": [
    {
     "data": {
      "text/plain": [
       "[2, 3]"
      ]
     },
     "execution_count": 33,
     "metadata": {},
     "output_type": "execute_result"
    }
   ],
   "source": [
    "l2"
   ]
  },
  {
   "cell_type": "code",
   "execution_count": 34,
   "id": "0bcafe55-1b7b-4342-aa9c-6154cd25d7e8",
   "metadata": {},
   "outputs": [],
   "source": [
    "l1=[1,2,3,4,5,6,7,8,9,10]"
   ]
  },
  {
   "cell_type": "code",
   "execution_count": 38,
   "id": "2599c283-91a1-47f0-aa07-752e49533cfe",
   "metadata": {},
   "outputs": [
    {
     "name": "stdout",
     "output_type": "stream",
     "text": [
      "1\n",
      "2\n",
      "3\n",
      "4\n",
      "5\n",
      "6\n",
      "7\n",
      "8\n",
      "9\n",
      "10\n"
     ]
    }
   ],
   "source": [
    "for i in l1 :\n",
    "    print(i)"
   ]
  },
  {
   "cell_type": "code",
   "execution_count": 9,
   "id": "9ab8655e-20c3-4f3c-b898-334b4fd6ed43",
   "metadata": {},
   "outputs": [
    {
     "name": "stdout",
     "output_type": "stream",
     "text": [
      "[3, 4, 5, 6, 7, 8, 9, 10, 11, 12]\n"
     ]
    }
   ],
   "source": [
    "## l=[1,2,3,4,5,6,7,8,9,10]\n",
    "#add 2 to every element of list\"\n",
    "l=[1,2,3,4,5,6,7,8,9,10]\n",
    "#1 using for loop\n",
    "l2=[]\n",
    "for i in l:\n",
    "   temp1=i+2\n",
    "   l2.append(temp1)\n",
    "print(l2)"
   ]
  },
  {
   "cell_type": "code",
   "execution_count": 15,
   "id": "4f89d5c1-2373-466f-b42a-48279e5b587f",
   "metadata": {},
   "outputs": [
    {
     "name": "stdout",
     "output_type": "stream",
     "text": [
      "[3, 4, 5, 6, 7, 8, 9, 10, 11, 12]\n"
     ]
    }
   ],
   "source": [
    "# using while loop\n",
    "l=[1,2,3,4,5,6,7,8,9,10]\n",
    "i=0\n",
    "l3=[]\n",
    "while i < len(l):\n",
    "    t=l[i]+2\n",
    "    l3.append(t)\n",
    "    i=i+1\n",
    "print(l3)\n",
    "\n",
    "\n",
    "\n"
   ]
  },
  {
   "cell_type": "code",
   "execution_count": null,
   "id": "ab9c39bf-c67c-40ae-8bf7-aa8e16cd50a9",
   "metadata": {},
   "outputs": [],
   "source": []
  }
 ],
 "metadata": {
  "kernelspec": {
   "display_name": "Python 3 (ipykernel)",
   "language": "python",
   "name": "python3"
  },
  "language_info": {
   "codemirror_mode": {
    "name": "ipython",
    "version": 3
   },
   "file_extension": ".py",
   "mimetype": "text/x-python",
   "name": "python",
   "nbconvert_exporter": "python",
   "pygments_lexer": "ipython3",
   "version": "3.10.8"
  }
 },
 "nbformat": 4,
 "nbformat_minor": 5
}
