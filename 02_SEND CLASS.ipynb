{
 "cells": [
  {
   "cell_type": "code",
   "execution_count": 1,
   "id": "c8cc3dd5-8fca-4a38-b61a-26c4f6d4695a",
   "metadata": {},
   "outputs": [],
   "source": [
    "fl=554.23\n",
    "st=\"string\"\n",
    "inr=255\n",
    "comp=5+6j"
   ]
  },
  {
   "cell_type": "code",
   "execution_count": 2,
   "id": "1ac3a965-f8b8-4cd0-96eb-e6dd1e1eebc3",
   "metadata": {},
   "outputs": [
    {
     "data": {
      "text/plain": [
       "float"
      ]
     },
     "execution_count": 2,
     "metadata": {},
     "output_type": "execute_result"
    }
   ],
   "source": [
    "type(fl)"
   ]
  },
  {
   "cell_type": "code",
   "execution_count": 3,
   "id": "3110829f-6598-433f-9227-ee0457d47d60",
   "metadata": {},
   "outputs": [
    {
     "data": {
      "text/plain": [
       "str"
      ]
     },
     "execution_count": 3,
     "metadata": {},
     "output_type": "execute_result"
    }
   ],
   "source": [
    "type(st)\n"
   ]
  },
  {
   "cell_type": "code",
   "execution_count": 4,
   "id": "88d50d1e-7b7e-4950-b840-33cbf928afef",
   "metadata": {},
   "outputs": [
    {
     "data": {
      "text/plain": [
       "int"
      ]
     },
     "execution_count": 4,
     "metadata": {},
     "output_type": "execute_result"
    }
   ],
   "source": [
    "type(inr)\n"
   ]
  },
  {
   "cell_type": "code",
   "execution_count": 5,
   "id": "856e42b3-1a74-46f5-9912-c1f38232778a",
   "metadata": {},
   "outputs": [
    {
     "data": {
      "text/plain": [
       "complex"
      ]
     },
     "execution_count": 5,
     "metadata": {},
     "output_type": "execute_result"
    }
   ],
   "source": [
    "type(comp)"
   ]
  },
  {
   "cell_type": "code",
   "execution_count": 6,
   "id": "77febd1d-8f1f-4fcd-baf1-4acd4d8a90f3",
   "metadata": {},
   "outputs": [],
   "source": [
    "lis=[10,True,554.23,\"string\",255,5+6j]\n"
   ]
  },
  {
   "cell_type": "code",
   "execution_count": 7,
   "id": "d866eddb-f2af-4071-9a3d-c205d362b5bf",
   "metadata": {},
   "outputs": [],
   "source": [
    "s=\"shahbaz\""
   ]
  },
  {
   "cell_type": "code",
   "execution_count": 8,
   "id": "739b5f04-b7d2-4cdc-a437-8f04f04d80ac",
   "metadata": {},
   "outputs": [
    {
     "data": {
      "text/plain": [
       "list"
      ]
     },
     "execution_count": 8,
     "metadata": {},
     "output_type": "execute_result"
    }
   ],
   "source": [
    "type(lis)"
   ]
  },
  {
   "cell_type": "code",
   "execution_count": 9,
   "id": "aec3ce13-242e-4c1d-9f15-0608f97d1329",
   "metadata": {},
   "outputs": [
    {
     "data": {
      "text/plain": [
       "554.23"
      ]
     },
     "execution_count": 9,
     "metadata": {},
     "output_type": "execute_result"
    }
   ],
   "source": [
    "lis[2]"
   ]
  },
  {
   "cell_type": "code",
   "execution_count": 10,
   "id": "e9175947-1995-4530-b91c-cebbe4387d09",
   "metadata": {},
   "outputs": [
    {
     "data": {
      "text/plain": [
       "[10, True, 554.23, 'string', 255, (5+6j)]"
      ]
     },
     "execution_count": 10,
     "metadata": {},
     "output_type": "execute_result"
    }
   ],
   "source": [
    "lis[::]"
   ]
  },
  {
   "cell_type": "code",
   "execution_count": 11,
   "id": "61229e6a-2e23-4358-9b97-e266ff071bc3",
   "metadata": {},
   "outputs": [
    {
     "data": {
      "text/plain": [
       "[10, True, 554.23]"
      ]
     },
     "execution_count": 11,
     "metadata": {},
     "output_type": "execute_result"
    }
   ],
   "source": [
    "lis[0:3]"
   ]
  },
  {
   "cell_type": "code",
   "execution_count": 12,
   "id": "4f4a7a1f-a585-46be-901e-1dcb823f78c4",
   "metadata": {},
   "outputs": [
    {
     "data": {
      "text/plain": [
       "(5+6j)"
      ]
     },
     "execution_count": 12,
     "metadata": {},
     "output_type": "execute_result"
    }
   ],
   "source": [
    "lis[-1]"
   ]
  },
  {
   "cell_type": "code",
   "execution_count": 13,
   "id": "b6f54777-d480-4801-b0da-0c855eccb26c",
   "metadata": {},
   "outputs": [
    {
     "data": {
      "text/plain": [
       "[(5+6j), 255, 'string', 554.23]"
      ]
     },
     "execution_count": 13,
     "metadata": {},
     "output_type": "execute_result"
    }
   ],
   "source": [
    "lis[-1 : -5:-1]"
   ]
  },
  {
   "cell_type": "code",
   "execution_count": 14,
   "id": "4d3fe588-f66d-4f43-8e2f-b753cec1dca9",
   "metadata": {},
   "outputs": [
    {
     "data": {
      "text/plain": [
       "[(5+6j), 255, 'string', 554.23, True, 10]"
      ]
     },
     "execution_count": 14,
     "metadata": {},
     "output_type": "execute_result"
    }
   ],
   "source": [
    "lis[ : :-1]"
   ]
  },
  {
   "cell_type": "code",
   "execution_count": 15,
   "id": "1a35ce5b-be66-4c2c-815a-1371f7569bd5",
   "metadata": {},
   "outputs": [
    {
     "ename": "IndexError",
     "evalue": "list index out of range",
     "output_type": "error",
     "traceback": [
      "\u001b[0;31m---------------------------------------------------------------------------\u001b[0m",
      "\u001b[0;31mIndexError\u001b[0m                                Traceback (most recent call last)",
      "Cell \u001b[0;32mIn[15], line 1\u001b[0m\n\u001b[0;32m----> 1\u001b[0m \u001b[43mlis\u001b[49m\u001b[43m[\u001b[49m\u001b[38;5;241;43m90\u001b[39;49m\u001b[43m]\u001b[49m\n",
      "\u001b[0;31mIndexError\u001b[0m: list index out of range"
     ]
    }
   ],
   "source": [
    "lis[90]"
   ]
  },
  {
   "cell_type": "code",
   "execution_count": null,
   "id": "312c108c-7d15-4276-b953-eded0e0dc96f",
   "metadata": {},
   "outputs": [],
   "source": [
    "lis[0:3]"
   ]
  },
  {
   "cell_type": "code",
   "execution_count": 16,
   "id": "e4482e5f-13cb-4c5c-8631-cad87743acaa",
   "metadata": {},
   "outputs": [
    {
     "data": {
      "text/plain": [
       "(5+6j)"
      ]
     },
     "execution_count": 16,
     "metadata": {},
     "output_type": "execute_result"
    }
   ],
   "source": [
    "lis[-1]"
   ]
  },
  {
   "cell_type": "code",
   "execution_count": 17,
   "id": "79ac9396-01eb-4259-8a72-f02fba56941c",
   "metadata": {},
   "outputs": [
    {
     "data": {
      "text/plain": [
       "[(5+6j), 255, 'string', 554.23, True, 10]"
      ]
     },
     "execution_count": 17,
     "metadata": {},
     "output_type": "execute_result"
    }
   ],
   "source": [
    "lis[::-1]"
   ]
  },
  {
   "cell_type": "code",
   "execution_count": 18,
   "id": "f6cec510-782b-4ef6-bcac-dff8b93ac0bc",
   "metadata": {},
   "outputs": [
    {
     "data": {
      "text/plain": [
       "[10, True, 554.23, 'string', 255, (5+6j), 's', 'h', 'a', 'h', 'b', 'a', 'z']"
      ]
     },
     "execution_count": 18,
     "metadata": {},
     "output_type": "execute_result"
    }
   ],
   "source": [
    "lis+list(s)"
   ]
  },
  {
   "cell_type": "code",
   "execution_count": 19,
   "id": "acccaa98-d8a4-4860-be70-ffa09f748de9",
   "metadata": {},
   "outputs": [
    {
     "data": {
      "text/plain": [
       "[10, True, 554.23, 'string', 255, (5+6j)]"
      ]
     },
     "execution_count": 19,
     "metadata": {},
     "output_type": "execute_result"
    }
   ],
   "source": [
    "lis"
   ]
  },
  {
   "cell_type": "code",
   "execution_count": 89,
   "id": "afcc95ac-7d51-4cea-b48c-0310a8eb7e6d",
   "metadata": {},
   "outputs": [
    {
     "ename": "TypeError",
     "evalue": "'complex' object is not subscriptable",
     "output_type": "error",
     "traceback": [
      "\u001b[0;31m---------------------------------------------------------------------------\u001b[0m",
      "\u001b[0;31mTypeError\u001b[0m                                 Traceback (most recent call last)",
      "Cell \u001b[0;32mIn[89], line 1\u001b[0m\n\u001b[0;32m----> 1\u001b[0m \u001b[43mlis\u001b[49m\u001b[43m[\u001b[49m\u001b[38;5;241;43m3\u001b[39;49m\u001b[43m]\u001b[49m\u001b[43m[\u001b[49m\u001b[38;5;241;43m0\u001b[39;49m\u001b[43m:\u001b[49m\u001b[38;5;241;43m2\u001b[39;49m\u001b[43m]\u001b[49m        \u001b[38;5;66;03m##py dont index integer but in case of string py do index inside of variable \u001b[39;00m\n",
      "\u001b[0;31mTypeError\u001b[0m: 'complex' object is not subscriptable"
     ]
    }
   ],
   "source": [
    "lis[3][0:2]        ##py dont index integer but in case of string py do index inside of variable \n"
   ]
  },
  {
   "cell_type": "code",
   "execution_count": 21,
   "id": "e508a86e-f9c6-4625-b917-94601cd8c07e",
   "metadata": {},
   "outputs": [
    {
     "ename": "TypeError",
     "evalue": "'bool' object is not subscriptable",
     "output_type": "error",
     "traceback": [
      "\u001b[0;31m---------------------------------------------------------------------------\u001b[0m",
      "\u001b[0;31mTypeError\u001b[0m                                 Traceback (most recent call last)",
      "Cell \u001b[0;32mIn[21], line 1\u001b[0m\n\u001b[0;32m----> 1\u001b[0m \u001b[43mlis\u001b[49m\u001b[43m[\u001b[49m\u001b[38;5;241;43m1\u001b[39;49m\u001b[43m]\u001b[49m\u001b[43m[\u001b[49m\u001b[38;5;241;43m2\u001b[39;49m\u001b[43m]\u001b[49m            \u001b[38;5;66;03m## py dont index integer but do index in case of string\u001b[39;00m\n",
      "\u001b[0;31mTypeError\u001b[0m: 'bool' object is not subscriptable"
     ]
    }
   ],
   "source": [
    "lis[1][2]            ## py dont index integer but do index in case of string"
   ]
  },
  {
   "cell_type": "code",
   "execution_count": 22,
   "id": "817b6bd5-20ca-4a15-b565-46ccc2bd3cff",
   "metadata": {},
   "outputs": [
    {
     "data": {
      "text/plain": [
       "[10, True, 554.23, 'string', 255, (5+6j)]"
      ]
     },
     "execution_count": 22,
     "metadata": {},
     "output_type": "execute_result"
    }
   ],
   "source": [
    "lis"
   ]
  },
  {
   "cell_type": "code",
   "execution_count": 23,
   "id": "c3eaf8a0-9dc3-43d2-828d-9b100bdd9a72",
   "metadata": {},
   "outputs": [],
   "source": [
    "lis1=[2234,54,675]"
   ]
  },
  {
   "cell_type": "code",
   "execution_count": 24,
   "id": "5b1de618-fb58-4c93-b93b-ef37fb34ec03",
   "metadata": {},
   "outputs": [
    {
     "data": {
      "text/plain": [
       "[10, True, 554.23, 'string', 255, (5+6j), 2234, 54, 675]"
      ]
     },
     "execution_count": 24,
     "metadata": {},
     "output_type": "execute_result"
    }
   ],
   "source": [
    "lis+lis1"
   ]
  },
  {
   "cell_type": "code",
   "execution_count": 25,
   "id": "89715052-5ed2-4cd6-9aa6-10dabbb40b34",
   "metadata": {},
   "outputs": [
    {
     "data": {
      "text/plain": [
       "True"
      ]
     },
     "execution_count": 25,
     "metadata": {},
     "output_type": "execute_result"
    }
   ],
   "source": [
    "lis[1]"
   ]
  },
  {
   "cell_type": "code",
   "execution_count": 26,
   "id": "8fb5ffe8-dc88-4c8e-bcaf-8abb28d1a8d3",
   "metadata": {},
   "outputs": [
    {
     "data": {
      "text/plain": [
       "'Tr'"
      ]
     },
     "execution_count": 26,
     "metadata": {},
     "output_type": "execute_result"
    }
   ],
   "source": [
    "(lis[1])[0:2]       # it strip out true and then converts into string then there after pull specifified....\n"
   ]
  },
  {
   "cell_type": "code",
   "execution_count": 27,
   "id": "0c622161-54c9-43b0-ba5d-55de7a1b6f80",
   "metadata": {},
   "outputs": [
    {
     "data": {
      "text/plain": [
       "[10, True, 554.23, 'string', 255, (5+6j)]"
      ]
     },
     "execution_count": 27,
     "metadata": {},
     "output_type": "execute_result"
    }
   ],
   "source": [
    "lis"
   ]
  },
  {
   "cell_type": "code",
   "execution_count": 28,
   "id": "fd1eb6c6-bee2-4690-a857-d0b269e42719",
   "metadata": {},
   "outputs": [],
   "source": [
    "lis = [10, True, 554.23, 'string', 255, (5+6j), 5, 5]"
   ]
  },
  {
   "cell_type": "code",
   "execution_count": 29,
   "id": "285ce2a5-0698-4db6-a5c2-bda5eaa0a503",
   "metadata": {},
   "outputs": [
    {
     "data": {
      "text/plain": [
       "[10, True, 554.23, 'string', 255, (5+6j), 5, 5]"
      ]
     },
     "execution_count": 29,
     "metadata": {},
     "output_type": "execute_result"
    }
   ],
   "source": [
    "lis"
   ]
  },
  {
   "cell_type": "code",
   "execution_count": 90,
   "id": "fcf9e2ab-3f93-477f-beb2-429b2cbd3110",
   "metadata": {},
   "outputs": [
    {
     "ename": "TypeError",
     "evalue": "'<' not supported between instances of 'complex' and 'int'",
     "output_type": "error",
     "traceback": [
      "\u001b[0;31m---------------------------------------------------------------------------\u001b[0m",
      "\u001b[0;31mTypeError\u001b[0m                                 Traceback (most recent call last)",
      "Cell \u001b[0;32mIn[90], line 1\u001b[0m\n\u001b[0;32m----> 1\u001b[0m \u001b[43mlis\u001b[49m\u001b[38;5;241;43m.\u001b[39;49m\u001b[43msort\u001b[49m\u001b[43m(\u001b[49m\u001b[43m)\u001b[49m\n",
      "\u001b[0;31mTypeError\u001b[0m: '<' not supported between instances of 'complex' and 'int'"
     ]
    }
   ],
   "source": [
    "lis.sort()"
   ]
  },
  {
   "cell_type": "code",
   "execution_count": 100,
   "id": "d6f9bbe1-1499-4fb7-a0c4-00bfd676979e",
   "metadata": {},
   "outputs": [],
   "source": [
    "lis2=[5,6,12,25,89,23]"
   ]
  },
  {
   "cell_type": "code",
   "execution_count": 101,
   "id": "c3597ae3-c69d-4a84-a9c4-732f3d777468",
   "metadata": {},
   "outputs": [
    {
     "ename": "SyntaxError",
     "evalue": "invalid syntax (2622107353.py, line 1)",
     "output_type": "error",
     "traceback": [
      "\u001b[0;36m  Cell \u001b[0;32mIn[101], line 1\u001b[0;36m\u001b[0m\n\u001b[0;31m    list2.sort(,false)\u001b[0m\n\u001b[0m               ^\u001b[0m\n\u001b[0;31mSyntaxError\u001b[0m\u001b[0;31m:\u001b[0m invalid syntax\n"
     ]
    }
   ],
   "source": [
    "list2.sort()"
   ]
  },
  {
   "cell_type": "code",
   "execution_count": 97,
   "id": "135bf897-0a50-4ca7-9e7f-9bb542330827",
   "metadata": {},
   "outputs": [
    {
     "data": {
      "text/plain": [
       "[5, 6, 12, 25, 89, 23]"
      ]
     },
     "execution_count": 97,
     "metadata": {},
     "output_type": "execute_result"
    }
   ],
   "source": [
    "lis2"
   ]
  },
  {
   "cell_type": "code",
   "execution_count": 98,
   "id": "59e1d8f5-65e7-4f88-bf30-8f5072935a37",
   "metadata": {},
   "outputs": [],
   "source": [
    "lis2.sort()"
   ]
  },
  {
   "cell_type": "code",
   "execution_count": 99,
   "id": "f36ca099-fff8-45af-90e9-a2c0b56627ae",
   "metadata": {},
   "outputs": [
    {
     "data": {
      "text/plain": [
       "[5, 6, 12, 23, 25, 89]"
      ]
     },
     "execution_count": 99,
     "metadata": {},
     "output_type": "execute_result"
    }
   ],
   "source": [
    "lis2"
   ]
  },
  {
   "cell_type": "code",
   "execution_count": 34,
   "id": "b729791a-91ed-40b8-8572-15b568be87a0",
   "metadata": {},
   "outputs": [],
   "source": [
    "lis2.sort(reverse=False)"
   ]
  },
  {
   "cell_type": "code",
   "execution_count": 35,
   "id": "e2b3b05e-74b2-4afa-a4c4-16538e9682a9",
   "metadata": {},
   "outputs": [
    {
     "data": {
      "text/plain": [
       "[5, 6, 12, 23, 25, 89]"
      ]
     },
     "execution_count": 35,
     "metadata": {},
     "output_type": "execute_result"
    }
   ],
   "source": [
    "lis2"
   ]
  },
  {
   "cell_type": "code",
   "execution_count": 36,
   "id": "ba939a90-db45-4a33-af21-b3de5ae16945",
   "metadata": {},
   "outputs": [],
   "source": [
    "cars = ['Ford', 'BMW', 'Volvo']"
   ]
  },
  {
   "cell_type": "code",
   "execution_count": 37,
   "id": "bf78834f-ae15-47c3-b2bf-27cad9bf4c21",
   "metadata": {},
   "outputs": [
    {
     "data": {
      "text/plain": [
       "['Ford', 'BMW', 'Volvo']"
      ]
     },
     "execution_count": 37,
     "metadata": {},
     "output_type": "execute_result"
    }
   ],
   "source": [
    "cars"
   ]
  },
  {
   "cell_type": "code",
   "execution_count": 38,
   "id": "c871ffdb-4129-419a-81c0-e5b55dfcc9d8",
   "metadata": {},
   "outputs": [],
   "source": [
    "cars.sort()"
   ]
  },
  {
   "cell_type": "code",
   "execution_count": 39,
   "id": "c5789cd4-f910-4911-96cf-ba9a5a5c1b3d",
   "metadata": {},
   "outputs": [
    {
     "data": {
      "text/plain": [
       "['BMW', 'Ford', 'Volvo']"
      ]
     },
     "execution_count": 39,
     "metadata": {},
     "output_type": "execute_result"
    }
   ],
   "source": [
    "cars"
   ]
  },
  {
   "cell_type": "code",
   "execution_count": 40,
   "id": "33690722-00cb-4482-ade8-927af563d0c2",
   "metadata": {},
   "outputs": [],
   "source": [
    "def myFunc(e):\n",
    "  return len(e)\n",
    "\n",
    "cars = ['Ford', 'Mitsubishi', 'BMW', 'VW']\n",
    "\n",
    "cars.sort(key=myFunc)"
   ]
  },
  {
   "cell_type": "code",
   "execution_count": 41,
   "id": "8d77eee0-1a60-4db4-ac1b-2bde03c65e29",
   "metadata": {},
   "outputs": [
    {
     "data": {
      "text/plain": [
       "['VW', 'BMW', 'Ford', 'Mitsubishi']"
      ]
     },
     "execution_count": 41,
     "metadata": {},
     "output_type": "execute_result"
    }
   ],
   "source": [
    "cars"
   ]
  },
  {
   "cell_type": "code",
   "execution_count": 42,
   "id": "4ea5e287-3c6b-4565-a683-48a3e0cf14ec",
   "metadata": {},
   "outputs": [],
   "source": [
    "cars.append(s)"
   ]
  },
  {
   "cell_type": "code",
   "execution_count": 43,
   "id": "d7ef6b1a-5855-4308-ab7c-17124a9bfd7d",
   "metadata": {},
   "outputs": [
    {
     "data": {
      "text/plain": [
       "['VW', 'BMW', 'Ford', 'Mitsubishi', 'shahbaz']"
      ]
     },
     "execution_count": 43,
     "metadata": {},
     "output_type": "execute_result"
    }
   ],
   "source": [
    "cars"
   ]
  },
  {
   "cell_type": "code",
   "execution_count": 44,
   "id": "37526515-2767-48a8-b268-4920cd51ca82",
   "metadata": {},
   "outputs": [],
   "source": [
    "lis.append(lis1)"
   ]
  },
  {
   "cell_type": "code",
   "execution_count": 45,
   "id": "5d2938cd-c777-4363-bdcc-64affb497f61",
   "metadata": {},
   "outputs": [
    {
     "data": {
      "text/plain": [
       "[True, 10, 554.23, 'string', 255, (5+6j), 5, 5, [2234, 54, 675]]"
      ]
     },
     "execution_count": 45,
     "metadata": {},
     "output_type": "execute_result"
    }
   ],
   "source": [
    "lis"
   ]
  },
  {
   "cell_type": "code",
   "execution_count": 46,
   "id": "4ed37b71-a739-489d-9ff8-a4fe552b0e5b",
   "metadata": {},
   "outputs": [
    {
     "data": {
      "text/plain": [
       "54"
      ]
     },
     "execution_count": 46,
     "metadata": {},
     "output_type": "execute_result"
    }
   ],
   "source": [
    "lis[-1][-2]\n"
   ]
  },
  {
   "cell_type": "code",
   "execution_count": 47,
   "id": "df101b41-85e8-4909-92ed-a58dee042045",
   "metadata": {},
   "outputs": [
    {
     "data": {
      "text/plain": [
       "[True, 10, 554.23, 'string', 255, (5+6j), 5, 5, [2234, 54, 675]]"
      ]
     },
     "execution_count": 47,
     "metadata": {},
     "output_type": "execute_result"
    }
   ],
   "source": [
    "lis"
   ]
  },
  {
   "cell_type": "code",
   "execution_count": 48,
   "id": "f845dc79-695b-41af-b565-1f0f5e547d0d",
   "metadata": {},
   "outputs": [],
   "source": [
    "lis.extend(lis1)"
   ]
  },
  {
   "cell_type": "code",
   "execution_count": 49,
   "id": "14f5ddbe-f775-476f-b0a0-4695b611401f",
   "metadata": {},
   "outputs": [
    {
     "data": {
      "text/plain": [
       "2234"
      ]
     },
     "execution_count": 49,
     "metadata": {},
     "output_type": "execute_result"
    }
   ],
   "source": [
    "lis[-3]"
   ]
  },
  {
   "cell_type": "code",
   "execution_count": 50,
   "id": "bc572ff0-0324-4829-91da-fab5b96a9631",
   "metadata": {},
   "outputs": [
    {
     "ename": "IndexError",
     "evalue": "list index out of range",
     "output_type": "error",
     "traceback": [
      "\u001b[0;31m---------------------------------------------------------------------------\u001b[0m",
      "\u001b[0;31mIndexError\u001b[0m                                Traceback (most recent call last)",
      "Cell \u001b[0;32mIn[50], line 1\u001b[0m\n\u001b[0;32m----> 1\u001b[0m \u001b[43mlis\u001b[49m\u001b[43m[\u001b[49m\u001b[38;5;241;43m-\u001b[39;49m\u001b[38;5;241;43m15\u001b[39;49m\u001b[43m]\u001b[49m\n",
      "\u001b[0;31mIndexError\u001b[0m: list index out of range"
     ]
    }
   ],
   "source": [
    "lis[-15]"
   ]
  },
  {
   "cell_type": "code",
   "execution_count": 51,
   "id": "3c939cb9-9463-4f17-95f5-3cf189a675ac",
   "metadata": {},
   "outputs": [],
   "source": [
    "lis1.insert(1,[2,3,5])"
   ]
  },
  {
   "cell_type": "code",
   "execution_count": 52,
   "id": "ddcf9d76-05fc-41fd-b098-6c8f138894e4",
   "metadata": {},
   "outputs": [
    {
     "data": {
      "text/plain": [
       "[2234, [2, 3, 5], 54, 675]"
      ]
     },
     "execution_count": 52,
     "metadata": {},
     "output_type": "execute_result"
    }
   ],
   "source": [
    "lis1"
   ]
  },
  {
   "cell_type": "code",
   "execution_count": 53,
   "id": "ad3978df-f951-4b95-acab-331030125408",
   "metadata": {},
   "outputs": [
    {
     "data": {
      "text/plain": [
       "675"
      ]
     },
     "execution_count": 53,
     "metadata": {},
     "output_type": "execute_result"
    }
   ],
   "source": [
    "lis1.pop()"
   ]
  },
  {
   "cell_type": "code",
   "execution_count": 54,
   "id": "04194725-5c65-4e7d-8ebe-5a6a5be3ca62",
   "metadata": {},
   "outputs": [
    {
     "data": {
      "text/plain": [
       "[2234, [2, 3, 5], 54]"
      ]
     },
     "execution_count": 54,
     "metadata": {},
     "output_type": "execute_result"
    }
   ],
   "source": [
    "lis1"
   ]
  },
  {
   "cell_type": "code",
   "execution_count": 55,
   "id": "054db265-2cd0-461f-9802-a1f13e4c7900",
   "metadata": {},
   "outputs": [
    {
     "data": {
      "text/plain": [
       "[True,\n",
       " 10,\n",
       " 554.23,\n",
       " 'string',\n",
       " 255,\n",
       " (5+6j),\n",
       " 5,\n",
       " 5,\n",
       " [2234, [2, 3, 5], 54],\n",
       " 2234,\n",
       " 54,\n",
       " 675]"
      ]
     },
     "execution_count": 55,
     "metadata": {},
     "output_type": "execute_result"
    }
   ],
   "source": [
    "lis"
   ]
  },
  {
   "cell_type": "code",
   "execution_count": 56,
   "id": "eb5a529a-f9b9-441f-ac4d-32726b4f3209",
   "metadata": {},
   "outputs": [],
   "source": [
    "lis.remove(1)"
   ]
  },
  {
   "cell_type": "code",
   "execution_count": 57,
   "id": "08253fa0-cf80-40cf-b8d6-7eaed523ca73",
   "metadata": {},
   "outputs": [
    {
     "data": {
      "text/plain": [
       "[10, 554.23, 'string', 255, (5+6j), 5, 5, [2234, [2, 3, 5], 54], 2234, 54, 675]"
      ]
     },
     "execution_count": 57,
     "metadata": {},
     "output_type": "execute_result"
    }
   ],
   "source": [
    "lis"
   ]
  },
  {
   "cell_type": "code",
   "execution_count": 58,
   "id": "23f00e60-4a42-4dde-9cbf-55d7d2a5c02e",
   "metadata": {},
   "outputs": [],
   "source": [
    "lis.insert(0,True)"
   ]
  },
  {
   "cell_type": "code",
   "execution_count": 59,
   "id": "214e0d8c-a0aa-44e0-afd7-67346ac9eb7c",
   "metadata": {},
   "outputs": [
    {
     "data": {
      "text/plain": [
       "[True,\n",
       " 10,\n",
       " 554.23,\n",
       " 'string',\n",
       " 255,\n",
       " (5+6j),\n",
       " 5,\n",
       " 5,\n",
       " [2234, [2, 3, 5], 54],\n",
       " 2234,\n",
       " 54,\n",
       " 675]"
      ]
     },
     "execution_count": 59,
     "metadata": {},
     "output_type": "execute_result"
    }
   ],
   "source": [
    "lis"
   ]
  },
  {
   "cell_type": "code",
   "execution_count": 60,
   "id": "437c6196-c6d7-45f4-9cce-ce99ffcba5f7",
   "metadata": {},
   "outputs": [],
   "source": [
    "lis.remove(10)"
   ]
  },
  {
   "cell_type": "code",
   "execution_count": 61,
   "id": "0bf4a664-7562-4b07-a708-9e2fc964c654",
   "metadata": {},
   "outputs": [
    {
     "data": {
      "text/plain": [
       "[True,\n",
       " 554.23,\n",
       " 'string',\n",
       " 255,\n",
       " (5+6j),\n",
       " 5,\n",
       " 5,\n",
       " [2234, [2, 3, 5], 54],\n",
       " 2234,\n",
       " 54,\n",
       " 675]"
      ]
     },
     "execution_count": 61,
     "metadata": {},
     "output_type": "execute_result"
    }
   ],
   "source": [
    "lis"
   ]
  },
  {
   "cell_type": "code",
   "execution_count": 62,
   "id": "8a0162c0-c17c-4465-af06-9e2627e954e0",
   "metadata": {},
   "outputs": [],
   "source": [
    "lis.remove(\"string\")"
   ]
  },
  {
   "cell_type": "code",
   "execution_count": 63,
   "id": "b4b818f3-7536-43d7-9a70-c35cbb45308e",
   "metadata": {},
   "outputs": [
    {
     "data": {
      "text/plain": [
       "[True, 554.23, 255, (5+6j), 5, 5, [2234, [2, 3, 5], 54], 2234, 54, 675]"
      ]
     },
     "execution_count": 63,
     "metadata": {},
     "output_type": "execute_result"
    }
   ],
   "source": [
    "lis"
   ]
  },
  {
   "cell_type": "code",
   "execution_count": 64,
   "id": "a18f4d2d-7106-4165-936f-29d86397fbb4",
   "metadata": {},
   "outputs": [
    {
     "data": {
      "text/plain": [
       "[True, 554.23, 255, (5+6j), 5, 5, [2234, [2, 3, 5], 54], 2234, 54, 675]"
      ]
     },
     "execution_count": 64,
     "metadata": {},
     "output_type": "execute_result"
    }
   ],
   "source": [
    "lis"
   ]
  },
  {
   "cell_type": "code",
   "execution_count": 65,
   "id": "43bf3686-a4b1-4322-be72-df8f1b7f0ea1",
   "metadata": {},
   "outputs": [
    {
     "data": {
      "text/plain": [
       "[True, 554.23, 255, (5+6j), 5, 5, [2234, [2, 3, 5], 54], 2234, 54, 675]"
      ]
     },
     "execution_count": 65,
     "metadata": {},
     "output_type": "execute_result"
    }
   ],
   "source": [
    "lis"
   ]
  },
  {
   "cell_type": "code",
   "execution_count": 66,
   "id": "d6c44cb9-2682-4cf6-9bc3-909dccfd05f7",
   "metadata": {},
   "outputs": [],
   "source": [
    "lis1=[25,23,56]"
   ]
  },
  {
   "cell_type": "code",
   "execution_count": 67,
   "id": "063afcb1-0c5c-4401-b2df-9804d7441947",
   "metadata": {},
   "outputs": [
    {
     "data": {
      "text/plain": [
       "[25, 23, 56]"
      ]
     },
     "execution_count": 67,
     "metadata": {},
     "output_type": "execute_result"
    }
   ],
   "source": [
    "lis1"
   ]
  },
  {
   "cell_type": "code",
   "execution_count": 68,
   "id": "28f556f9-0c5f-4c62-af19-f916bfbf89f7",
   "metadata": {},
   "outputs": [
    {
     "data": {
      "text/plain": [
       "[True, 554.23, 255, (5+6j), 5, 5, [2234, [2, 3, 5], 54], 2234, 54, 675]"
      ]
     },
     "execution_count": 68,
     "metadata": {},
     "output_type": "execute_result"
    }
   ],
   "source": [
    "lis"
   ]
  },
  {
   "cell_type": "code",
   "execution_count": 69,
   "id": "ea8fd114-ed76-4b19-9f0c-ebc4fae65e40",
   "metadata": {},
   "outputs": [
    {
     "ename": "ValueError",
     "evalue": "list.remove(x): x not in list",
     "output_type": "error",
     "traceback": [
      "\u001b[0;31m---------------------------------------------------------------------------\u001b[0m",
      "\u001b[0;31mValueError\u001b[0m                                Traceback (most recent call last)",
      "Cell \u001b[0;32mIn[69], line 1\u001b[0m\n\u001b[0;32m----> 1\u001b[0m \u001b[43mlis\u001b[49m\u001b[38;5;241;43m.\u001b[39;49m\u001b[43mremove\u001b[49m\u001b[43m(\u001b[49m\u001b[43m[\u001b[49m\u001b[43m]\u001b[49m\u001b[43m)\u001b[49m\n",
      "\u001b[0;31mValueError\u001b[0m: list.remove(x): x not in list"
     ]
    }
   ],
   "source": [
    "lis.remove([])"
   ]
  },
  {
   "cell_type": "code",
   "execution_count": 70,
   "id": "8d6e8fa8-26f3-4a26-acd5-ffa4538cb25d",
   "metadata": {},
   "outputs": [
    {
     "data": {
      "text/plain": [
       "[True, 554.23, 255, (5+6j), 5, 5, [2234, [2, 3, 5], 54], 2234, 54, 675]"
      ]
     },
     "execution_count": 70,
     "metadata": {},
     "output_type": "execute_result"
    }
   ],
   "source": [
    "lis"
   ]
  },
  {
   "cell_type": "code",
   "execution_count": 71,
   "id": "5a2c4dda-843f-4160-b57b-4697b0fd9661",
   "metadata": {},
   "outputs": [],
   "source": [
    "lis.append(lis1)"
   ]
  },
  {
   "cell_type": "code",
   "execution_count": 72,
   "id": "360569a6-b309-46ad-8eac-6868e713e831",
   "metadata": {},
   "outputs": [
    {
     "data": {
      "text/plain": [
       "[True,\n",
       " 554.23,\n",
       " 255,\n",
       " (5+6j),\n",
       " 5,\n",
       " 5,\n",
       " [2234, [2, 3, 5], 54],\n",
       " 2234,\n",
       " 54,\n",
       " 675,\n",
       " [25, 23, 56]]"
      ]
     },
     "execution_count": 72,
     "metadata": {},
     "output_type": "execute_result"
    }
   ],
   "source": [
    "lis"
   ]
  },
  {
   "cell_type": "code",
   "execution_count": 73,
   "id": "b32613f8-172f-4be3-9c2a-f0119af91563",
   "metadata": {},
   "outputs": [],
   "source": [
    "lis.extend([25,2,12,10])\n"
   ]
  },
  {
   "cell_type": "code",
   "execution_count": 74,
   "id": "e8342ef0-3938-4394-b9f1-41293cf8bea5",
   "metadata": {},
   "outputs": [
    {
     "data": {
      "text/plain": [
       "[True,\n",
       " 554.23,\n",
       " 255,\n",
       " (5+6j),\n",
       " 5,\n",
       " 5,\n",
       " [2234, [2, 3, 5], 54],\n",
       " 2234,\n",
       " 54,\n",
       " 675,\n",
       " [25, 23, 56],\n",
       " 25,\n",
       " 2,\n",
       " 12,\n",
       " 10]"
      ]
     },
     "execution_count": 74,
     "metadata": {},
     "output_type": "execute_result"
    }
   ],
   "source": [
    "lis"
   ]
  },
  {
   "cell_type": "code",
   "execution_count": 75,
   "id": "f87d07b7-b8c8-4f6b-bcb0-1769b5aa289f",
   "metadata": {},
   "outputs": [
    {
     "data": {
      "text/plain": [
       "10"
      ]
     },
     "execution_count": 75,
     "metadata": {},
     "output_type": "execute_result"
    }
   ],
   "source": [
    "lis.pop()"
   ]
  },
  {
   "cell_type": "code",
   "execution_count": 76,
   "id": "dd5d926f-6b9f-40b2-927d-65c03216cfd8",
   "metadata": {},
   "outputs": [
    {
     "data": {
      "text/plain": [
       "[True,\n",
       " 554.23,\n",
       " 255,\n",
       " (5+6j),\n",
       " 5,\n",
       " 5,\n",
       " [2234, [2, 3, 5], 54],\n",
       " 2234,\n",
       " 54,\n",
       " 675,\n",
       " [25, 23, 56],\n",
       " 25,\n",
       " 2,\n",
       " 12]"
      ]
     },
     "execution_count": 76,
     "metadata": {},
     "output_type": "execute_result"
    }
   ],
   "source": [
    "lis"
   ]
  },
  {
   "cell_type": "code",
   "execution_count": 77,
   "id": "f4699fcb-bfff-41ec-830f-8fee4ca1c593",
   "metadata": {},
   "outputs": [
    {
     "ename": "ValueError",
     "evalue": "list.remove(x): x not in list",
     "output_type": "error",
     "traceback": [
      "\u001b[0;31m---------------------------------------------------------------------------\u001b[0m",
      "\u001b[0;31mValueError\u001b[0m                                Traceback (most recent call last)",
      "Cell \u001b[0;32mIn[77], line 1\u001b[0m\n\u001b[0;32m----> 1\u001b[0m \u001b[43mlis\u001b[49m\u001b[38;5;241;43m.\u001b[39;49m\u001b[43mremove\u001b[49m\u001b[43m(\u001b[49m\u001b[38;5;241;43m23\u001b[39;49m\u001b[43m)\u001b[49m\n",
      "\u001b[0;31mValueError\u001b[0m: list.remove(x): x not in list"
     ]
    }
   ],
   "source": [
    "lis.remove(23)"
   ]
  },
  {
   "cell_type": "code",
   "execution_count": 78,
   "id": "d80e0543-4b64-47eb-99f5-c1b0c3a186e8",
   "metadata": {},
   "outputs": [],
   "source": [
    "lis[-4].remove(23)"
   ]
  },
  {
   "cell_type": "code",
   "execution_count": 79,
   "id": "751d91e2-dd41-452f-9aa8-71e96218366b",
   "metadata": {},
   "outputs": [
    {
     "data": {
      "text/plain": [
       "[True,\n",
       " 554.23,\n",
       " 255,\n",
       " (5+6j),\n",
       " 5,\n",
       " 5,\n",
       " [2234, [2, 3, 5], 54],\n",
       " 2234,\n",
       " 54,\n",
       " 675,\n",
       " [25, 56],\n",
       " 25,\n",
       " 2,\n",
       " 12]"
      ]
     },
     "execution_count": 79,
     "metadata": {},
     "output_type": "execute_result"
    }
   ],
   "source": [
    "lis"
   ]
  },
  {
   "cell_type": "code",
   "execution_count": 80,
   "id": "bbb421ec-4c2d-40cd-938f-8a0f693fea02",
   "metadata": {},
   "outputs": [],
   "source": [
    "lis.append('sskill')"
   ]
  },
  {
   "cell_type": "code",
   "execution_count": 81,
   "id": "e943cfe7-ce2d-4512-b272-7542a0c2c196",
   "metadata": {},
   "outputs": [
    {
     "data": {
      "text/plain": [
       "[True,\n",
       " 554.23,\n",
       " 255,\n",
       " (5+6j),\n",
       " 5,\n",
       " 5,\n",
       " [2234, [2, 3, 5], 54],\n",
       " 2234,\n",
       " 54,\n",
       " 675,\n",
       " [25, 56],\n",
       " 25,\n",
       " 2,\n",
       " 12,\n",
       " 'sskill']"
      ]
     },
     "execution_count": 81,
     "metadata": {},
     "output_type": "execute_result"
    }
   ],
   "source": [
    "lis"
   ]
  },
  {
   "cell_type": "code",
   "execution_count": 82,
   "id": "f7439d77-3da8-4272-b4d1-9b976c68d82a",
   "metadata": {},
   "outputs": [
    {
     "data": {
      "text/plain": [
       "'sskill'"
      ]
     },
     "execution_count": 82,
     "metadata": {},
     "output_type": "execute_result"
    }
   ],
   "source": [
    "lis[-1]\n"
   ]
  },
  {
   "cell_type": "code",
   "execution_count": 83,
   "id": "ed1a17a1-09f8-43be-829a-04a3e639b0e2",
   "metadata": {},
   "outputs": [
    {
     "data": {
      "text/plain": [
       "[True,\n",
       " 554.23,\n",
       " 255,\n",
       " (5+6j),\n",
       " 5,\n",
       " 5,\n",
       " [2234, [2, 3, 5], 54],\n",
       " 2234,\n",
       " 54,\n",
       " 675,\n",
       " [25, 56],\n",
       " 25,\n",
       " 2,\n",
       " 12,\n",
       " 'sskill']"
      ]
     },
     "execution_count": 83,
     "metadata": {},
     "output_type": "execute_result"
    }
   ],
   "source": [
    "lis"
   ]
  },
  {
   "cell_type": "code",
   "execution_count": 84,
   "id": "fbf1c9ae-08bd-40cd-848c-3daa9b91b590",
   "metadata": {},
   "outputs": [
    {
     "data": {
      "text/plain": [
       "[True,\n",
       " 554.23,\n",
       " 255,\n",
       " (5+6j),\n",
       " 5,\n",
       " 5,\n",
       " [2234, [2, 3, 5], 54],\n",
       " 2234,\n",
       " 54,\n",
       " 675,\n",
       " [25, 56],\n",
       " 25,\n",
       " 2,\n",
       " 12,\n",
       " 'sskill']"
      ]
     },
     "execution_count": 84,
     "metadata": {},
     "output_type": "execute_result"
    }
   ],
   "source": [
    "lis"
   ]
  },
  {
   "cell_type": "code",
   "execution_count": 85,
   "id": "f1625637-de4d-4fba-b067-6d2f72901900",
   "metadata": {},
   "outputs": [
    {
     "data": {
      "text/plain": [
       "[True,\n",
       " 554.23,\n",
       " 255,\n",
       " (5+6j),\n",
       " 5,\n",
       " 5,\n",
       " [2234, [2, 3, 5], 54],\n",
       " 2234,\n",
       " 54,\n",
       " 675,\n",
       " [25, 56],\n",
       " 25,\n",
       " 2,\n",
       " 12,\n",
       " 'sskill']"
      ]
     },
     "execution_count": 85,
     "metadata": {},
     "output_type": "execute_result"
    }
   ],
   "source": [
    "lis"
   ]
  },
  {
   "cell_type": "code",
   "execution_count": 86,
   "id": "a47cfd07-5102-4fd6-b35d-35ae8201731b",
   "metadata": {},
   "outputs": [
    {
     "data": {
      "text/plain": [
       "['sskill',\n",
       " 12,\n",
       " 2,\n",
       " 25,\n",
       " [25, 56],\n",
       " 675,\n",
       " 54,\n",
       " 2234,\n",
       " [2234, [2, 3, 5], 54],\n",
       " 5,\n",
       " 5,\n",
       " (5+6j),\n",
       " 255,\n",
       " 554.23,\n",
       " True]"
      ]
     },
     "execution_count": 86,
     "metadata": {},
     "output_type": "execute_result"
    }
   ],
   "source": [
    "lis[::-1]"
   ]
  },
  {
   "cell_type": "code",
   "execution_count": 87,
   "id": "48575862-c8f1-4a14-b012-4ecb87f497b7",
   "metadata": {},
   "outputs": [
    {
     "data": {
      "text/plain": [
       "[True,\n",
       " 554.23,\n",
       " 255,\n",
       " (5+6j),\n",
       " 5,\n",
       " 5,\n",
       " [2234, [2, 3, 5], 54],\n",
       " 2234,\n",
       " 54,\n",
       " 675,\n",
       " [25, 56],\n",
       " 25,\n",
       " 2,\n",
       " 12,\n",
       " 'sskill']"
      ]
     },
     "execution_count": 87,
     "metadata": {},
     "output_type": "execute_result"
    }
   ],
   "source": [
    "lis"
   ]
  },
  {
   "cell_type": "code",
   "execution_count": null,
   "id": "43ab3bca-7d5a-4de4-95b7-9044b4e990d2",
   "metadata": {},
   "outputs": [],
   "source": []
  },
  {
   "cell_type": "code",
   "execution_count": null,
   "id": "8aaddb6f-28c9-47ae-a1f1-d284e1e679f8",
   "metadata": {},
   "outputs": [],
   "source": []
  },
  {
   "cell_type": "code",
   "execution_count": null,
   "id": "f6dfab4f-6e0b-40c5-a4d5-b9778c27eaf7",
   "metadata": {},
   "outputs": [],
   "source": []
  },
  {
   "cell_type": "code",
   "execution_count": null,
   "id": "21854dc8-2bab-4745-8a80-b65d4051fa60",
   "metadata": {},
   "outputs": [],
   "source": []
  }
 ],
 "metadata": {
  "kernelspec": {
   "display_name": "Python 3 (ipykernel)",
   "language": "python",
   "name": "python3"
  },
  "language_info": {
   "codemirror_mode": {
    "name": "ipython",
    "version": 3
   },
   "file_extension": ".py",
   "mimetype": "text/x-python",
   "name": "python",
   "nbconvert_exporter": "python",
   "pygments_lexer": "ipython3",
   "version": "3.10.8"
  }
 },
 "nbformat": 4,
 "nbformat_minor": 5
}
