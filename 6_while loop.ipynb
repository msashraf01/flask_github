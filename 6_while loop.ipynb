{
 "cells": [
  {
   "cell_type": "code",
   "execution_count": 1,
   "id": "3a3b3576-4dab-487f-917c-69de1330048b",
   "metadata": {},
   "outputs": [],
   "source": [
    "### sum till some point"
   ]
  },
  {
   "cell_type": "code",
   "execution_count": 8,
   "id": "e6a14a56-2fb9-4c82-9fba-b543efa4acab",
   "metadata": {},
   "outputs": [
    {
     "name": "stdin",
     "output_type": "stream",
     "text": [
      " 5\n"
     ]
    },
    {
     "name": "stdout",
     "output_type": "stream",
     "text": [
      "1\n",
      "2\n",
      "3\n",
      "4\n"
     ]
    }
   ],
   "source": [
    "a=1\n",
    "b=int(input())\n",
    "\n",
    "while a < b :\n",
    "    print(a)\n",
    "    a=a+1   "
   ]
  },
  {
   "cell_type": "code",
   "execution_count": null,
   "id": "7344802d-fb0d-47b9-a1ad-0359a738bfc6",
   "metadata": {},
   "outputs": [],
   "source": [
    "## sum of n nummbers\n",
    "n = int(input())\n",
    "counter=1\n",
    "starting_point=0\n",
    "\n",
    "while counter <= n :\n",
    "    starting_point=starting_point+counter\n",
    "    counter+=1\n",
    "print(starting_point)"
   ]
  },
  {
   "cell_type": "code",
   "execution_count": 24,
   "id": "a4ff72e7-86a3-4f1e-acb2-16bfdba9d95e",
   "metadata": {},
   "outputs": [
    {
     "name": "stdout",
     "output_type": "stream",
     "text": [
      "hello shabaz\n",
      "hello shahbaz\n",
      "hello world\n"
     ]
    }
   ],
   "source": [
    "print(\"hello shabaz\\nhello shahbaz\\nhello world\")     ### \\n is used for linebreak"
   ]
  },
  {
   "cell_type": "code",
   "execution_count": 31,
   "id": "cbc910e6-849b-4602-921d-717dc1ab2404",
   "metadata": {},
   "outputs": [
    {
     "name": "stdin",
     "output_type": "stream",
     "text": [
      " 5\n"
     ]
    },
    {
     "name": "stdout",
     "output_type": "stream",
     "text": [
      "1\n",
      "4\n",
      "9\n",
      "16\n",
      "25\n"
     ]
    }
   ],
   "source": [
    "## SUM SQUARE OF NUMBERS TILL SOME POINT\n",
    "\n",
    "inp=int(input())\n",
    "counter=1\n",
    " \n",
    "while counter <= inp :\n",
    "        print((counter**2))\n",
    "        counter+=1"
   ]
  },
  {
   "cell_type": "code",
   "execution_count": 44,
   "id": "659e9666-aa8d-4402-8e5a-4ff850089353",
   "metadata": {},
   "outputs": [
    {
     "name": "stdin",
     "output_type": "stream",
     "text": [
      " 5\n"
     ]
    },
    {
     "name": "stdout",
     "output_type": "stream",
     "text": [
      "120\n"
     ]
    }
   ],
   "source": [
    "### factorial of a number\n",
    "inp=int(input())\n",
    "a=1\n",
    "for i in range(1,inp+1,1):\n",
    "    a=a*i\n",
    "print(a)\n",
    "      \n"
   ]
  },
  {
   "cell_type": "code",
   "execution_count": 2,
   "id": "5bb82474-bc49-485f-a1b5-4c6fa302cf8f",
   "metadata": {},
   "outputs": [
    {
     "name": "stdin",
     "output_type": "stream",
     "text": [
      " 4\n"
     ]
    },
    {
     "name": "stdout",
     "output_type": "stream",
     "text": [
      "24\n"
     ]
    }
   ],
   "source": [
    "inp=int(input())\n",
    "factorial=1\n",
    "pro=1\n",
    "while factorial <= inp :\n",
    "      pro=(pro*factorial)\n",
    "      \n",
    "      factorial=factorial+1\n",
    "print(pro)    "
   ]
  },
  {
   "cell_type": "code",
   "execution_count": 4,
   "id": "8c1049d5-8764-4e22-960a-e6d662e8e87a",
   "metadata": {},
   "outputs": [
    {
     "name": "stdin",
     "output_type": "stream",
     "text": [
      " 4\n"
     ]
    },
    {
     "name": "stdout",
     "output_type": "stream",
     "text": [
      "24\n"
     ]
    }
   ],
   "source": [
    "inp=int(input())\n",
    "factorial=1\n",
    "pro=1\n",
    "while inp > 0 :\n",
    "      pro=(pro*inp)\n",
    "      \n",
    "      inp=inp-1\n",
    "print(pro)"
   ]
  },
  {
   "cell_type": "code",
   "execution_count": 1,
   "id": "e6215b71-bd56-44ae-9303-5ead110ca9a2",
   "metadata": {},
   "outputs": [
    {
     "name": "stdin",
     "output_type": "stream",
     "text": [
      " 50\n"
     ]
    },
    {
     "name": "stdout",
     "output_type": "stream",
     "text": [
      "0\n",
      "1\n",
      "1\n",
      "2\n",
      "3\n",
      "5\n",
      "8\n",
      "13\n",
      "21\n",
      "34\n",
      "55\n",
      "89\n",
      "144\n",
      "233\n",
      "377\n",
      "610\n",
      "987\n",
      "1597\n",
      "2584\n",
      "4181\n",
      "6765\n",
      "10946\n",
      "17711\n",
      "28657\n",
      "46368\n",
      "75025\n",
      "121393\n",
      "196418\n",
      "317811\n",
      "514229\n",
      "832040\n",
      "1346269\n",
      "2178309\n",
      "3524578\n",
      "5702887\n",
      "9227465\n",
      "14930352\n",
      "24157817\n",
      "39088169\n",
      "63245986\n",
      "102334155\n",
      "165580141\n",
      "267914296\n",
      "433494437\n",
      "701408733\n",
      "1134903170\n",
      "1836311903\n",
      "2971215073\n",
      "4807526976\n",
      "7778742049\n"
     ]
    }
   ],
   "source": [
    "## generate fabinacci serise      fabinacci series is- next number is sum of last two number\n",
    "\n",
    "inp=int(input())\n",
    "counter=1\n",
    "##print(inp)\n",
    "\n",
    "a =0\n",
    "b =1\n",
    "c =0\n",
    "while  counter <= inp :\n",
    "    print(a)\n",
    "    c=(a+b)\n",
    "    a=b\n",
    "    b=c\n",
    "    counter=counter+1\n",
    "    "
   ]
  },
  {
   "cell_type": "code",
   "execution_count": 20,
   "id": "3b019043-3359-439b-944c-af0a8470da92",
   "metadata": {},
   "outputs": [
    {
     "name": "stdin",
     "output_type": "stream",
     "text": [
      " 10\n"
     ]
    },
    {
     "name": "stdout",
     "output_type": "stream",
     "text": [
      "0\n",
      "1\n",
      "1\n",
      "2\n",
      "3\n",
      "5\n",
      "8\n",
      "13\n",
      "21\n",
      "34\n"
     ]
    }
   ],
   "source": [
    "## fabinacci series using for loop\n",
    "a,b= 0,1\n",
    "c=0\n",
    "\n",
    "for i in range(int(input())):\n",
    "    print(a)\n",
    "    c=a+b\n",
    "    a=b\n",
    "    b=c\n",
    "    couter=counter+1\n",
    "    \n"
   ]
  },
  {
   "cell_type": "code",
   "execution_count": 22,
   "id": "b5489cab-a6b5-429e-a83f-a3add520737b",
   "metadata": {},
   "outputs": [
    {
     "name": "stdin",
     "output_type": "stream",
     "text": [
      "inuput our string to reverse ab\n"
     ]
    }
   ],
   "source": [
    "##prob.     take input(string) and  inverse the string  using loop\n",
    "\n",
    "s=input(\"inuput our string to reverse\")"
   ]
  },
  {
   "cell_type": "code",
   "execution_count": 17,
   "id": "f72dc5a7-9399-4384-9242-a306e23a387f",
   "metadata": {},
   "outputs": [
    {
     "data": {
      "text/plain": [
       "'iba'"
      ]
     },
     "execution_count": 17,
     "metadata": {},
     "output_type": "execute_result"
    }
   ],
   "source": [
    "s[::-1]"
   ]
  },
  {
   "cell_type": "code",
   "execution_count": 25,
   "id": "3fc9df02-8a5b-457f-bfa7-6f6c13a8478c",
   "metadata": {},
   "outputs": [
    {
     "name": "stdin",
     "output_type": "stream",
     "text": [
      "inuput our string to reverse abi\n"
     ]
    },
    {
     "name": "stdout",
     "output_type": "stream",
     "text": [
      "i\n",
      "b\n",
      "a\n"
     ]
    }
   ],
   "source": [
    "s=input(\"inuput our string to reverse\")\n",
    "for i in range((len(s)-1),-1,-1):\n",
    "   print(s[i])\n"
   ]
  },
  {
   "cell_type": "code",
   "execution_count": 27,
   "id": "35b91844-f14b-47a8-ba41-3a174c4148d8",
   "metadata": {},
   "outputs": [
    {
     "name": "stdin",
     "output_type": "stream",
     "text": [
      "inuput our string to reverse md shahbaz ashraf\n"
     ]
    },
    {
     "name": "stdout",
     "output_type": "stream",
     "text": [
      "farhsa zabhahs dm\n"
     ]
    }
   ],
   "source": [
    "inverse=\"\"\n",
    "s=input(\"inuput our string to reverse\")\n",
    "for i in range((len(s)-1),-1,-1):\n",
    "    inverse=inverse+s[i]\n",
    "print(inverse)\n",
    "   "
   ]
  },
  {
   "cell_type": "code",
   "execution_count": null,
   "id": "90bd814b-677b-45f6-8a17-0eeaa2b6debe",
   "metadata": {},
   "outputs": [],
   "source": []
  },
  {
   "cell_type": "code",
   "execution_count": null,
   "id": "3249a787-f5fd-4639-bb42-736f7c7ef356",
   "metadata": {},
   "outputs": [],
   "source": []
  },
  {
   "cell_type": "code",
   "execution_count": null,
   "id": "587a89fa-dd66-4545-a6ec-a45c7d94b215",
   "metadata": {},
   "outputs": [],
   "source": []
  },
  {
   "cell_type": "code",
   "execution_count": 10,
   "id": "5355bf44-cd91-4825-891a-562469e6bd7b",
   "metadata": {},
   "outputs": [
    {
     "data": {
      "text/plain": [
       "7"
      ]
     },
     "execution_count": 10,
     "metadata": {},
     "output_type": "execute_result"
    }
   ],
   "source": [
    "len(s)"
   ]
  },
  {
   "cell_type": "code",
   "execution_count": 12,
   "id": "3d15cd51-f499-4abd-8518-ca13a6c8dd06",
   "metadata": {},
   "outputs": [
    {
     "data": {
      "text/plain": [
       "[6, 5, 4, 3, 2, 1, 0]"
      ]
     },
     "execution_count": 12,
     "metadata": {},
     "output_type": "execute_result"
    }
   ],
   "source": [
    "list(range((len(s)-1),-1,-1))"
   ]
  },
  {
   "cell_type": "code",
   "execution_count": null,
   "id": "b9bc7bae-16fb-421a-8e2d-295139028334",
   "metadata": {},
   "outputs": [],
   "source": []
  },
  {
   "cell_type": "code",
   "execution_count": 36,
   "id": "73112a57-a639-464b-a8fc-fadbe5bfd809",
   "metadata": {},
   "outputs": [
    {
     "name": "stdin",
     "output_type": "stream",
     "text": [
      "plz enter the number you want to create table 10\n"
     ]
    },
    {
     "name": "stdout",
     "output_type": "stream",
     "text": [
      "10\n",
      "20\n",
      "30\n",
      "40\n",
      "50\n",
      "60\n",
      "70\n",
      "80\n",
      "90\n"
     ]
    }
   ],
   "source": [
    "### create a table of specified number \n",
    "number= int(input(\"plz enter the number you want to create table\"))\n",
    "for i in range(1,10,1):\n",
    "    print(i*number)\n",
    "\n",
    "\n"
   ]
  },
  {
   "cell_type": "code",
   "execution_count": 39,
   "id": "6ba75fbe-1585-40bb-82c8-c11d0ae53f0e",
   "metadata": {},
   "outputs": [
    {
     "name": "stdin",
     "output_type": "stream",
     "text": [
      "plz enter the number you want to create table 10\n"
     ]
    },
    {
     "name": "stdout",
     "output_type": "stream",
     "text": [
      "10\n",
      "20\n",
      "30\n",
      "40\n",
      "50\n",
      "60\n",
      "70\n",
      "80\n",
      "90\n",
      "100\n"
     ]
    }
   ],
   "source": [
    "number= int(input(\"plz enter the number you want to create table\"))\n",
    "counter=1\n",
    "\n",
    "while counter <= 10 :\n",
    "    print(counter*number)\n",
    "    counter+=1"
   ]
  },
  {
   "cell_type": "code",
   "execution_count": 45,
   "id": "ba3c2039-dbc6-4b2b-b83b-c24a34a22148",
   "metadata": {},
   "outputs": [
    {
     "name": "stdout",
     "output_type": "stream",
     "text": [
      "1\n",
      "2\n",
      "3\n"
     ]
    }
   ],
   "source": [
    "## else in while \n",
    "i=1\n",
    "n=5\n",
    "\n",
    "while i <=5 :\n",
    "    print(i)\n",
    "    i=i+1\n",
    "    if i==4 :\n",
    "     break\n",
    "else:\n",
    "    print(\"this will be executed only after completion of loop \")   ## here else willl not be exucuted bcz of loop breaks befoe successfully completed \n",
    "\n"
   ]
  },
  {
   "cell_type": "code",
   "execution_count": 4,
   "id": "d1999da3-f07d-464c-9033-b14d729356fd",
   "metadata": {
    "scrolled": true,
    "tags": []
   },
   "outputs": [
    {
     "name": "stdin",
     "output_type": "stream",
     "text": [
      " 5\n"
     ]
    },
    {
     "name": "stdout",
     "output_type": "stream",
     "text": [
      "0\n",
      "1\n",
      "1\n",
      "2\n",
      "3\n",
      "5\n"
     ]
    }
   ],
   "source": [
    "a=0\n",
    "b=1\n",
    "counter=0\n",
    "c=0\n",
    "g=int(input())\n",
    "while counter <= g :\n",
    "    print(a)\n",
    "    c=a+b\n",
    "    a=b\n",
    "    b=c\n",
    "    counter=counter+1"
   ]
  },
  {
   "cell_type": "code",
   "execution_count": null,
   "id": "8eb19523-f0aa-42a5-adf9-677bdd108e19",
   "metadata": {},
   "outputs": [],
   "source": []
  }
 ],
 "metadata": {
  "kernelspec": {
   "display_name": "Python 3 (ipykernel)",
   "language": "python",
   "name": "python3"
  },
  "language_info": {
   "codemirror_mode": {
    "name": "ipython",
    "version": 3
   },
   "file_extension": ".py",
   "mimetype": "text/x-python",
   "name": "python",
   "nbconvert_exporter": "python",
   "pygments_lexer": "ipython3",
   "version": "3.10.8"
  }
 },
 "nbformat": 4,
 "nbformat_minor": 5
}
