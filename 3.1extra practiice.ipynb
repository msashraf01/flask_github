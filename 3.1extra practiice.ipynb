{
 "cells": [
  {
   "cell_type": "code",
   "execution_count": 11,
   "id": "191dfae0-c15e-4917-9f68-c29bb4a75a41",
   "metadata": {},
   "outputs": [],
   "source": [
    "lis=[10,True,554.23,\"string\",255,5+6j]"
   ]
  },
  {
   "cell_type": "code",
   "execution_count": 12,
   "id": "a445f624-b867-4e4b-b773-a28fd4982f37",
   "metadata": {},
   "outputs": [],
   "source": [
    "s= \"Shahbaz ashraf\""
   ]
  },
  {
   "cell_type": "code",
   "execution_count": 13,
   "id": "396ebd66-f116-4e13-9731-e49aed674e06",
   "metadata": {},
   "outputs": [
    {
     "data": {
      "text/plain": [
       "['Shahbaz', 'ashraf']"
      ]
     },
     "execution_count": 13,
     "metadata": {},
     "output_type": "execute_result"
    }
   ],
   "source": [
    "s.split()"
   ]
  },
  {
   "cell_type": "code",
   "execution_count": 14,
   "id": "1e47634a-a487-4f30-87b2-ebc57f65ccff",
   "metadata": {},
   "outputs": [
    {
     "data": {
      "text/plain": [
       "['S', 'h', 'a', 'h', 'b', 'a', 'z', ' ', 'a', 's', 'h', 'r', 'a', 'f']"
      ]
     },
     "execution_count": 14,
     "metadata": {},
     "output_type": "execute_result"
    }
   ],
   "source": [
    "list(s)"
   ]
  },
  {
   "cell_type": "code",
   "execution_count": 15,
   "id": "e5e934ea-69dc-4c0f-8e0c-849229f62f9a",
   "metadata": {},
   "outputs": [
    {
     "data": {
      "text/plain": [
       "14"
      ]
     },
     "execution_count": 15,
     "metadata": {},
     "output_type": "execute_result"
    }
   ],
   "source": [
    "len(list(s))"
   ]
  },
  {
   "cell_type": "code",
   "execution_count": 16,
   "id": "510cef86-0970-4334-ab93-4f69ff477e53",
   "metadata": {},
   "outputs": [
    {
     "data": {
      "text/plain": [
       "14"
      ]
     },
     "execution_count": 16,
     "metadata": {},
     "output_type": "execute_result"
    }
   ],
   "source": [
    "len(s)"
   ]
  },
  {
   "cell_type": "code",
   "execution_count": 17,
   "id": "97d0d6d4-b640-40f1-ace6-f52d27482850",
   "metadata": {},
   "outputs": [
    {
     "data": {
      "text/plain": [
       "(5+6j)"
      ]
     },
     "execution_count": 17,
     "metadata": {},
     "output_type": "execute_result"
    }
   ],
   "source": [
    "lis.pop()"
   ]
  },
  {
   "cell_type": "code",
   "execution_count": 18,
   "id": "2a831975-94a5-4fcd-8049-317f63be83b8",
   "metadata": {},
   "outputs": [
    {
     "data": {
      "text/plain": [
       "[10, True, 554.23, 'string', 255]"
      ]
     },
     "execution_count": 18,
     "metadata": {},
     "output_type": "execute_result"
    }
   ],
   "source": [
    "lis"
   ]
  },
  {
   "cell_type": "code",
   "execution_count": 19,
   "id": "2ef1314c-efb5-4f1c-829a-9c6da0bb4787",
   "metadata": {},
   "outputs": [
    {
     "data": {
      "text/plain": [
       "10"
      ]
     },
     "execution_count": 19,
     "metadata": {},
     "output_type": "execute_result"
    }
   ],
   "source": [
    "lis.pop(0)"
   ]
  },
  {
   "cell_type": "code",
   "execution_count": 31,
   "id": "a99a99cc-697b-40ce-9b1d-ceae0d79c1c3",
   "metadata": {},
   "outputs": [],
   "source": [
    "lis.insert(0,10)"
   ]
  },
  {
   "cell_type": "code",
   "execution_count": 32,
   "id": "b6831dc6-e827-46a1-bb75-1231c9c43710",
   "metadata": {},
   "outputs": [
    {
     "data": {
      "text/plain": [
       "[10, True, 554.23, 'string', (5+6j), 255]"
      ]
     },
     "execution_count": 32,
     "metadata": {},
     "output_type": "execute_result"
    }
   ],
   "source": [
    "lis"
   ]
  },
  {
   "cell_type": "code",
   "execution_count": 33,
   "id": "bf824cf1-a042-4f31-8d09-d7e149c898af",
   "metadata": {},
   "outputs": [],
   "source": [
    "lis.insert(-1,(5+6j))"
   ]
  },
  {
   "cell_type": "code",
   "execution_count": 34,
   "id": "a92b1a79-e99c-489b-8b0c-df94c37ee0de",
   "metadata": {},
   "outputs": [
    {
     "data": {
      "text/plain": [
       "[10, True, 554.23, 'string', (5+6j), (5+6j), 255]"
      ]
     },
     "execution_count": 34,
     "metadata": {},
     "output_type": "execute_result"
    }
   ],
   "source": [
    "lis"
   ]
  },
  {
   "cell_type": "code",
   "execution_count": 35,
   "id": "f66fefad-317a-4390-a1af-e3954efa828d",
   "metadata": {},
   "outputs": [],
   "source": [
    "lis.remove(10)"
   ]
  },
  {
   "cell_type": "code",
   "execution_count": 36,
   "id": "d1d48471-ef1f-4e56-a029-41a2e2f95ed6",
   "metadata": {},
   "outputs": [
    {
     "data": {
      "text/plain": [
       "[True, 554.23, 'string', (5+6j), (5+6j), 255]"
      ]
     },
     "execution_count": 36,
     "metadata": {},
     "output_type": "execute_result"
    }
   ],
   "source": [
    "lis"
   ]
  },
  {
   "cell_type": "code",
   "execution_count": 40,
   "id": "041089cf-e2ae-452d-9700-0a493fb0843e",
   "metadata": {},
   "outputs": [
    {
     "data": {
      "text/plain": [
       "'S//a//baz as//raf'"
      ]
     },
     "execution_count": 40,
     "metadata": {},
     "output_type": "execute_result"
    }
   ],
   "source": [
    "s.replace(\"h\",\"//\",-1)"
   ]
  },
  {
   "cell_type": "code",
   "execution_count": 43,
   "id": "b9f86cb3-5f01-4992-a721-5145e98224fe",
   "metadata": {},
   "outputs": [
    {
     "data": {
      "text/plain": [
       "'SHAHBAZ ASHRAF'"
      ]
     },
     "execution_count": 43,
     "metadata": {},
     "output_type": "execute_result"
    }
   ],
   "source": [
    "s.upper()"
   ]
  },
  {
   "cell_type": "code",
   "execution_count": 44,
   "id": "0b94611d-4d6b-493b-b19e-b36e5c49c1ef",
   "metadata": {},
   "outputs": [
    {
     "data": {
      "text/plain": [
       "'Shahbaz ashraf'"
      ]
     },
     "execution_count": 44,
     "metadata": {},
     "output_type": "execute_result"
    }
   ],
   "source": [
    "s.capitalize()"
   ]
  },
  {
   "cell_type": "code",
   "execution_count": 45,
   "id": "f4377d7b-0518-41d7-913b-122eed26bf5c",
   "metadata": {},
   "outputs": [
    {
     "data": {
      "text/plain": [
       "[True, 554.23, 'string', (5+6j), (5+6j), 255]"
      ]
     },
     "execution_count": 45,
     "metadata": {},
     "output_type": "execute_result"
    }
   ],
   "source": [
    "lis"
   ]
  },
  {
   "cell_type": "code",
   "execution_count": 47,
   "id": "9f3210ed-613f-4222-91b1-c92340f338d1",
   "metadata": {},
   "outputs": [],
   "source": [
    "liss=lis[::-1]"
   ]
  },
  {
   "cell_type": "code",
   "execution_count": 48,
   "id": "55c3e1b0-4ffb-4695-8ede-64202532d076",
   "metadata": {},
   "outputs": [
    {
     "data": {
      "text/plain": [
       "[255, (5+6j), (5+6j), 'string', 554.23, True]"
      ]
     },
     "execution_count": 48,
     "metadata": {},
     "output_type": "execute_result"
    }
   ],
   "source": [
    "liss"
   ]
  },
  {
   "cell_type": "code",
   "execution_count": 49,
   "id": "8e9c0acf-a165-4f67-a739-31843f062b65",
   "metadata": {},
   "outputs": [
    {
     "data": {
      "text/plain": [
       "[True, 554.23, 'string', (5+6j), (5+6j), 255]"
      ]
     },
     "execution_count": 49,
     "metadata": {},
     "output_type": "execute_result"
    }
   ],
   "source": [
    "lis"
   ]
  },
  {
   "cell_type": "code",
   "execution_count": 50,
   "id": "5379f6a6-50ad-4b7f-946d-db22950236e8",
   "metadata": {},
   "outputs": [],
   "source": [
    "lis.reverse()"
   ]
  },
  {
   "cell_type": "code",
   "execution_count": 51,
   "id": "90372814-4adf-498f-8643-c9d5aa2a4f69",
   "metadata": {},
   "outputs": [
    {
     "data": {
      "text/plain": [
       "[255, (5+6j), (5+6j), 'string', 554.23, True]"
      ]
     },
     "execution_count": 51,
     "metadata": {},
     "output_type": "execute_result"
    }
   ],
   "source": [
    "lis"
   ]
  },
  {
   "cell_type": "code",
   "execution_count": 52,
   "id": "6ead80bc-dbbf-44ed-9bd1-60aca1a6b890",
   "metadata": {},
   "outputs": [],
   "source": [
    "lis.reverse()"
   ]
  },
  {
   "cell_type": "code",
   "execution_count": 53,
   "id": "a389650b-8cc9-4e9c-a644-63481f268d38",
   "metadata": {},
   "outputs": [
    {
     "data": {
      "text/plain": [
       "[True, 554.23, 'string', (5+6j), (5+6j), 255]"
      ]
     },
     "execution_count": 53,
     "metadata": {},
     "output_type": "execute_result"
    }
   ],
   "source": [
    "lis"
   ]
  },
  {
   "cell_type": "code",
   "execution_count": 54,
   "id": "3d35f449-df56-4730-8b9e-6c065a783659",
   "metadata": {},
   "outputs": [],
   "source": [
    "liss=lis[::-1]"
   ]
  },
  {
   "cell_type": "code",
   "execution_count": 55,
   "id": "0a840784-b7e9-4b01-a2c6-8d578a22eaf5",
   "metadata": {},
   "outputs": [
    {
     "data": {
      "text/plain": [
       "[True, 554.23, 'string', (5+6j), (5+6j), 255]"
      ]
     },
     "execution_count": 55,
     "metadata": {},
     "output_type": "execute_result"
    }
   ],
   "source": [
    "lis"
   ]
  },
  {
   "cell_type": "code",
   "execution_count": 56,
   "id": "30aa7f6a-498b-4c36-a8e7-07e8d045b17b",
   "metadata": {},
   "outputs": [
    {
     "data": {
      "text/plain": [
       "[255, (5+6j), (5+6j), 'string', 554.23, True]"
      ]
     },
     "execution_count": 56,
     "metadata": {},
     "output_type": "execute_result"
    }
   ],
   "source": [
    "liss"
   ]
  },
  {
   "cell_type": "code",
   "execution_count": 57,
   "id": "20b86d1a-acde-4bbd-a0c7-ff0cafc3499c",
   "metadata": {},
   "outputs": [],
   "source": [
    "lis.reverse()"
   ]
  },
  {
   "cell_type": "code",
   "execution_count": 58,
   "id": "ce470971-9ee5-4ea3-822a-029b80bc96e8",
   "metadata": {},
   "outputs": [
    {
     "data": {
      "text/plain": [
       "[255, (5+6j), (5+6j), 'string', 554.23, True]"
      ]
     },
     "execution_count": 58,
     "metadata": {},
     "output_type": "execute_result"
    }
   ],
   "source": [
    "lis"
   ]
  },
  {
   "cell_type": "code",
   "execution_count": 17,
   "id": "738d7a09-692a-4951-b5e7-0248bddeebdb",
   "metadata": {},
   "outputs": [],
   "source": [
    "list2 = [12,56,2,5,85,0,45,35,25]\n",
    "list3 = [\"CAR\",\"ABIKE\",\"MOTOR\",\"PLAN\",\"RAIL\"]"
   ]
  },
  {
   "cell_type": "code",
   "execution_count": 18,
   "id": "a5f79a78-4c87-4078-819d-60fc827cc9f3",
   "metadata": {},
   "outputs": [],
   "source": [
    "list2.sort()"
   ]
  },
  {
   "cell_type": "code",
   "execution_count": 19,
   "id": "aa003b58-d556-47ac-92c4-dbd74fa13c63",
   "metadata": {},
   "outputs": [
    {
     "data": {
      "text/plain": [
       "[0, 2, 5, 12, 25, 35, 45, 56, 85]"
      ]
     },
     "execution_count": 19,
     "metadata": {},
     "output_type": "execute_result"
    }
   ],
   "source": [
    "list2"
   ]
  },
  {
   "cell_type": "code",
   "execution_count": 21,
   "id": "80d90587-2c72-4185-8b08-e7e1b9a309f6",
   "metadata": {},
   "outputs": [],
   "source": [
    "list3.sort()"
   ]
  },
  {
   "cell_type": "code",
   "execution_count": 23,
   "id": "0f74b285-5e78-4f1c-976c-769ec92f5a46",
   "metadata": {},
   "outputs": [
    {
     "data": {
      "text/plain": [
       "['ABIKE', 'CAR', 'MOTOR', 'PLAN', 'RAIL']"
      ]
     },
     "execution_count": 23,
     "metadata": {},
     "output_type": "execute_result"
    }
   ],
   "source": [
    "list3"
   ]
  },
  {
   "cell_type": "code",
   "execution_count": 24,
   "id": "336e14b2-4376-4fb1-8030-02fee5269599",
   "metadata": {},
   "outputs": [],
   "source": [
    "list3[1]=\"bar\""
   ]
  },
  {
   "cell_type": "code",
   "execution_count": 25,
   "id": "96e33a7a-e37f-40d0-87a4-254f3c6b5707",
   "metadata": {},
   "outputs": [
    {
     "data": {
      "text/plain": [
       "['ABIKE', 'bar', 'MOTOR', 'PLAN', 'RAIL']"
      ]
     },
     "execution_count": 25,
     "metadata": {},
     "output_type": "execute_result"
    }
   ],
   "source": [
    "list3"
   ]
  },
  {
   "cell_type": "code",
   "execution_count": 26,
   "id": "6a460e69-7818-4a92-95d5-033dffd24e83",
   "metadata": {},
   "outputs": [],
   "source": [
    "s=\"shahbaz ashraf\""
   ]
  },
  {
   "cell_type": "code",
   "execution_count": 27,
   "id": "8ce614de-d0cf-493c-95ed-61cf2f602c15",
   "metadata": {},
   "outputs": [
    {
     "data": {
      "text/plain": [
       "'shahbaz ashraf'"
      ]
     },
     "execution_count": 27,
     "metadata": {},
     "output_type": "execute_result"
    }
   ],
   "source": [
    "s"
   ]
  },
  {
   "cell_type": "code",
   "execution_count": 28,
   "id": "a07c7f5c-d2e6-4121-8441-39acf9290150",
   "metadata": {},
   "outputs": [
    {
     "data": {
      "text/plain": [
       "'shahbaz khan'"
      ]
     },
     "execution_count": 28,
     "metadata": {},
     "output_type": "execute_result"
    }
   ],
   "source": [
    "s.replace(\"ashraf\",\"khan\")"
   ]
  },
  {
   "cell_type": "code",
   "execution_count": 29,
   "id": "c0556d35-4ee2-4baf-a3f2-144caf6e2fa9",
   "metadata": {},
   "outputs": [
    {
     "data": {
      "text/plain": [
       "'shahbaz ashraf'"
      ]
     },
     "execution_count": 29,
     "metadata": {},
     "output_type": "execute_result"
    }
   ],
   "source": [
    "s"
   ]
  },
  {
   "cell_type": "code",
   "execution_count": 30,
   "id": "63305f8f-bd29-4500-b3d6-c8ff251249b8",
   "metadata": {},
   "outputs": [],
   "source": [
    "t=(True, 554.23, 'string', (5+6j), (5+6j), 255)"
   ]
  },
  {
   "cell_type": "code",
   "execution_count": 31,
   "id": "3499ab3e-c694-48e6-9073-1c18f588a33b",
   "metadata": {},
   "outputs": [
    {
     "data": {
      "text/plain": [
       "(True, 554.23, 'string', (5+6j), (5+6j), 255)"
      ]
     },
     "execution_count": 31,
     "metadata": {},
     "output_type": "execute_result"
    }
   ],
   "source": [
    "t"
   ]
  },
  {
   "cell_type": "code",
   "execution_count": 32,
   "id": "0931e635-60b7-4187-8847-f76d6141d068",
   "metadata": {},
   "outputs": [
    {
     "data": {
      "text/plain": [
       "tuple"
      ]
     },
     "execution_count": 32,
     "metadata": {},
     "output_type": "execute_result"
    }
   ],
   "source": [
    "type(t)"
   ]
  },
  {
   "cell_type": "code",
   "execution_count": 37,
   "id": "ddcde1a3-ad44-4b8d-877f-5e3ffbbb7973",
   "metadata": {},
   "outputs": [
    {
     "data": {
      "text/plain": [
       "(255, (5+6j), (5+6j), 'string', 554.23, True)"
      ]
     },
     "execution_count": 37,
     "metadata": {},
     "output_type": "execute_result"
    }
   ],
   "source": [
    "t[::-1]"
   ]
  },
  {
   "cell_type": "code",
   "execution_count": 41,
   "id": "d9ef8c34-84c9-4ef7-94bc-3b32634d4794",
   "metadata": {},
   "outputs": [
    {
     "ename": "TypeError",
     "evalue": "'tuple' object does not support item assignment",
     "output_type": "error",
     "traceback": [
      "\u001b[0;31m---------------------------------------------------------------------------\u001b[0m",
      "\u001b[0;31mTypeError\u001b[0m                                 Traceback (most recent call last)",
      "Cell \u001b[0;32mIn[41], line 1\u001b[0m\n\u001b[0;32m----> 1\u001b[0m \u001b[43mt\u001b[49m\u001b[43m[\u001b[49m\u001b[38;5;241;43m1\u001b[39;49m\u001b[43m]\u001b[49m\u001b[38;5;241m=\u001b[39m\u001b[38;5;241m550\u001b[39m\n",
      "\u001b[0;31mTypeError\u001b[0m: 'tuple' object does not support item assignment"
     ]
    }
   ],
   "source": [
    "t[1]=550"
   ]
  },
  {
   "cell_type": "code",
   "execution_count": 42,
   "id": "4fd02523-66a6-4e1b-a9d9-8d108bc41242",
   "metadata": {},
   "outputs": [],
   "source": [
    "s1={}"
   ]
  },
  {
   "cell_type": "code",
   "execution_count": 43,
   "id": "82fa4220-000e-4e2a-b0f4-e444b17cc3db",
   "metadata": {},
   "outputs": [
    {
     "data": {
      "text/plain": [
       "dict"
      ]
     },
     "execution_count": 43,
     "metadata": {},
     "output_type": "execute_result"
    }
   ],
   "source": [
    "type(s1)"
   ]
  },
  {
   "cell_type": "code",
   "execution_count": 44,
   "id": "fdf2bae8-c09b-4118-be46-8307097cc5f0",
   "metadata": {},
   "outputs": [],
   "source": [
    "s2={2,4,6,8,12,9,10}"
   ]
  },
  {
   "cell_type": "code",
   "execution_count": 45,
   "id": "169cd993-ecd0-47c1-bfa8-9468265773b9",
   "metadata": {},
   "outputs": [
    {
     "data": {
      "text/plain": [
       "set"
      ]
     },
     "execution_count": 45,
     "metadata": {},
     "output_type": "execute_result"
    }
   ],
   "source": [
    "type(s2)"
   ]
  },
  {
   "cell_type": "code",
   "execution_count": 47,
   "id": "662bd185-3bfc-4df2-abea-187d76894821",
   "metadata": {},
   "outputs": [],
   "source": [
    "s4={2,4,2,4,5,6,4,2,2,3,3,5,9,9,9,9,5,7,8,4} ## inside set we can'nt store list  only non mutable list can be store\n"
   ]
  },
  {
   "cell_type": "code",
   "execution_count": 49,
   "id": "83b7e7a2-ccda-4bb0-bdde-0ed96a749484",
   "metadata": {},
   "outputs": [
    {
     "data": {
      "text/plain": [
       "{2, 3, 4, 5, 6, 7, 8, 9}"
      ]
     },
     "execution_count": 49,
     "metadata": {},
     "output_type": "execute_result"
    }
   ],
   "source": [
    "s4  ## set returns only ubique value "
   ]
  },
  {
   "cell_type": "code",
   "execution_count": 51,
   "id": "71dc9b33-8f99-4922-9a7b-4a08843e2891",
   "metadata": {},
   "outputs": [
    {
     "ename": "SyntaxError",
     "evalue": "invalid syntax (3078009288.py, line 1)",
     "output_type": "error",
     "traceback": [
      "\u001b[0;36m  Cell \u001b[0;32mIn[51], line 1\u001b[0;36m\u001b[0m\n\u001b[0;31m    s4{1}\u001b[0m\n\u001b[0m      ^\u001b[0m\n\u001b[0;31mSyntaxError\u001b[0m\u001b[0;31m:\u001b[0m invalid syntax\n"
     ]
    }
   ],
   "source": [
    "s4{1}"
   ]
  },
  {
   "cell_type": "code",
   "execution_count": 53,
   "id": "a09c28ed-63cf-40a7-ae3c-5c832ec0f61b",
   "metadata": {},
   "outputs": [
    {
     "ename": "NameError",
     "evalue": "name 'lis1' is not defined",
     "output_type": "error",
     "traceback": [
      "\u001b[0;31m---------------------------------------------------------------------------\u001b[0m",
      "\u001b[0;31mNameError\u001b[0m                                 Traceback (most recent call last)",
      "Cell \u001b[0;32mIn[53], line 1\u001b[0m\n\u001b[0;32m----> 1\u001b[0m \u001b[43mlis1\u001b[49m\n",
      "\u001b[0;31mNameError\u001b[0m: name 'lis1' is not defined"
     ]
    }
   ],
   "source": [
    "lis1"
   ]
  },
  {
   "cell_type": "code",
   "execution_count": 55,
   "id": "fb7fa46f-396f-457b-9ec2-9ad212bc6f72",
   "metadata": {},
   "outputs": [],
   "source": [
    "l=[2,4,2,4,5,6,4,2,2,3,3,5,9,9,9,9,5,7,8,4]"
   ]
  },
  {
   "cell_type": "code",
   "execution_count": 56,
   "id": "5a88a901-ff57-41f6-993f-24ed6a67d464",
   "metadata": {},
   "outputs": [
    {
     "data": {
      "text/plain": [
       "[2, 4, 2, 4, 5, 6, 4, 2, 2, 3, 3, 5, 9, 9, 9, 9, 5, 7, 8, 4]"
      ]
     },
     "execution_count": 56,
     "metadata": {},
     "output_type": "execute_result"
    }
   ],
   "source": [
    "l"
   ]
  },
  {
   "cell_type": "code",
   "execution_count": 58,
   "id": "3dbbd725-032d-45d4-aaf9-e4788493e3b9",
   "metadata": {},
   "outputs": [
    {
     "data": {
      "text/plain": [
       "[2, 3, 4, 5, 6, 7, 8, 9]"
      ]
     },
     "execution_count": 58,
     "metadata": {},
     "output_type": "execute_result"
    }
   ],
   "source": [
    "list(set(l))"
   ]
  },
  {
   "cell_type": "code",
   "execution_count": 7,
   "id": "4748210d-3109-415f-ac57-edfbec5934a7",
   "metadata": {},
   "outputs": [],
   "source": [
    "s5={245,365,89,6,787,239,\"Abi\",\"khan\"}"
   ]
  },
  {
   "cell_type": "code",
   "execution_count": 8,
   "id": "fb2adebd-bc27-4895-a28e-3cc4c1130431",
   "metadata": {},
   "outputs": [
    {
     "data": {
      "text/plain": [
       "{239, 245, 365, 6, 787, 89, 'Abi', 'khan'}"
      ]
     },
     "execution_count": 8,
     "metadata": {},
     "output_type": "execute_result"
    }
   ],
   "source": [
    "s5"
   ]
  },
  {
   "cell_type": "code",
   "execution_count": null,
   "id": "9ecc127d-31ee-4dea-9a78-00e06c9f192d",
   "metadata": {},
   "outputs": [],
   "source": []
  }
 ],
 "metadata": {
  "kernelspec": {
   "display_name": "Python 3 (ipykernel)",
   "language": "python",
   "name": "python3"
  },
  "language_info": {
   "codemirror_mode": {
    "name": "ipython",
    "version": 3
   },
   "file_extension": ".py",
   "mimetype": "text/x-python",
   "name": "python",
   "nbconvert_exporter": "python",
   "pygments_lexer": "ipython3",
   "version": "3.10.8"
  }
 },
 "nbformat": 4,
 "nbformat_minor": 5
}
