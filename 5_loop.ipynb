{
 "cells": [
  {
   "cell_type": "code",
   "execution_count": 1,
   "id": "4f20d46e-9a25-4f84-9690-8d8338013087",
   "metadata": {},
   "outputs": [],
   "source": [
    "##### for looop###\n",
    "# loop-(do something) again and again (repetitive)\n",
    "# while loop- continue to run untill certain condition is true\n",
    "# for loop- it runs for every element of list,string,tuple\n",
    " #or for loop runs for no of times elements are in iterable\n",
    "\n"
   ]
  },
  {
   "cell_type": "code",
   "execution_count": 9,
   "id": "220196a6-3cd3-412a-8217-213399befc0a",
   "metadata": {},
   "outputs": [],
   "source": [
    "l1=[2,4,6,8,10]        ## we have to add 1 to each element in list##"
   ]
  },
  {
   "cell_type": "code",
   "execution_count": 13,
   "id": "0c807ade-c5c8-4513-961b-deed9f2f4516",
   "metadata": {},
   "outputs": [
    {
     "name": "stdout",
     "output_type": "stream",
     "text": [
      "3\n",
      "5\n",
      "7\n",
      "9\n",
      "11\n"
     ]
    }
   ],
   "source": [
    "l2=[]\n",
    "for i in l1 :\n",
    "    print (i+1)\n",
    "    l2.append(i+1)\n",
    "    "
   ]
  },
  {
   "cell_type": "code",
   "execution_count": 14,
   "id": "e7eb6524-a145-4147-b612-01a7287cb3a8",
   "metadata": {},
   "outputs": [
    {
     "data": {
      "text/plain": [
       "[3, 5, 7, 9, 11]"
      ]
     },
     "execution_count": 14,
     "metadata": {},
     "output_type": "execute_result"
    }
   ],
   "source": [
    "l2"
   ]
  },
  {
   "cell_type": "code",
   "execution_count": 4,
   "id": "4936efe9-a9e6-4407-bb5d-b433466131fb",
   "metadata": {},
   "outputs": [],
   "source": [
    "fruits =[\"apple\",\"graps\",\"mango\",\"banana\",\"berry\"]"
   ]
  },
  {
   "cell_type": "code",
   "execution_count": 5,
   "id": "a56ce1df-ded2-45f4-a41c-173c27ee42c3",
   "metadata": {},
   "outputs": [
    {
     "name": "stdout",
     "output_type": "stream",
     "text": [
      "apple\n",
      "graps\n",
      "mango\n",
      "banana\n"
     ]
    }
   ],
   "source": [
    "for i in fruits :\n",
    "    print(i)\n",
    "    if i ==\"banana\" :\n",
    "        break \n",
    "    \n",
    "    "
   ]
  },
  {
   "cell_type": "code",
   "execution_count": 7,
   "id": "7e68ea4e-a01f-43c8-ad04-174944d9dce9",
   "metadata": {},
   "outputs": [
    {
     "data": {
      "text/plain": [
       "['apple', 'graps', 'mango', 'banana', 'berry']"
      ]
     },
     "execution_count": 7,
     "metadata": {},
     "output_type": "execute_result"
    }
   ],
   "source": [
    "fruits"
   ]
  },
  {
   "cell_type": "code",
   "execution_count": 9,
   "id": "1b15b607-cd90-4ffe-bf22-c5e50e9d07af",
   "metadata": {},
   "outputs": [
    {
     "name": "stdout",
     "output_type": "stream",
     "text": [
      "apple\n",
      "graps\n",
      "mango\n"
     ]
    }
   ],
   "source": [
    "## here else (for else ) is used to check loop fully exucuted or not\n",
    "for i in fruits :\n",
    "    if i == \"banana\" :\n",
    "        break\n",
    "    print(i)    \n",
    "else :      ## else with for is used when you have to check that loop is completely executaded\n",
    "    print(\"the loop is entirely exucuted\") \n",
    "    "
   ]
  },
  {
   "cell_type": "code",
   "execution_count": 2,
   "id": "6e1e1447-f832-49af-b1b5-4b3cdec1c9c5",
   "metadata": {},
   "outputs": [],
   "source": [
    "num=[2,4,8,9,5,8,7,12,16,18,19,21,20,17]"
   ]
  },
  {
   "cell_type": "code",
   "execution_count": 12,
   "id": "5f4382cf-8de8-42d5-9c7c-b3f25550b421",
   "metadata": {},
   "outputs": [
    {
     "name": "stdout",
     "output_type": "stream",
     "text": [
      "3\n",
      "5\n",
      "9\n",
      "10\n",
      "6\n",
      "9\n",
      "8\n",
      "13\n",
      "17\n",
      "19\n",
      "20\n",
      "23\n",
      "21\n",
      "18\n",
      "loop is successfully completed\n"
     ]
    }
   ],
   "source": [
    "for i in num:\n",
    "    if i <=20 :\n",
    "        print(i+1)\n",
    "    else :\n",
    "        print(i+2)\n",
    "else :\n",
    "    print (\"loop is successfully completed\")"
   ]
  },
  {
   "cell_type": "code",
   "execution_count": null,
   "id": "67dcb893-0b42-4c82-a51d-d37baeecf69d",
   "metadata": {},
   "outputs": [],
   "source": [
    "## here break function stops executing code when certain condition is true \n",
    "# here loops stops when num is > 20\n",
    "for i in  num:\n",
    "    if i > 20:\n",
    "        break\n",
    "    print(i)"
   ]
  },
  {
   "cell_type": "code",
   "execution_count": 14,
   "id": "1fd40bb2-089d-48c3-99df-5942235f84cb",
   "metadata": {},
   "outputs": [
    {
     "data": {
      "text/plain": [
       "[2, 4, 8, 9, 5, 8, 7, 12, 16, 18, 19, 21, 20, 17]"
      ]
     },
     "execution_count": 14,
     "metadata": {},
     "output_type": "execute_result"
    }
   ],
   "source": [
    "num"
   ]
  },
  {
   "cell_type": "code",
   "execution_count": 5,
   "id": "174b8214-d1f0-49fa-a24a-0f305f27cdb6",
   "metadata": {},
   "outputs": [
    {
     "name": "stdout",
     "output_type": "stream",
     "text": [
      "12\n",
      "16\n",
      "18\n",
      "19\n",
      "21\n",
      "20\n",
      "17\n"
     ]
    }
   ],
   "source": [
    "#continue fuction returns to loop if condition is true\n",
    "\n",
    "for i in num :\n",
    "    if i < 12 :\n",
    "        continue\n",
    "    print(i)\n",
    "    \n",
    "    "
   ]
  },
  {
   "cell_type": "code",
   "execution_count": 27,
   "id": "1ee94e07-098c-499f-9fd6-96bd636fb5d3",
   "metadata": {},
   "outputs": [
    {
     "data": {
      "text/plain": [
       "[0, 2, 4, 6, 8, 10]"
      ]
     },
     "execution_count": 27,
     "metadata": {},
     "output_type": "execute_result"
    }
   ],
   "source": [
    "list(range(0,11,2))"
   ]
  },
  {
   "cell_type": "code",
   "execution_count": 28,
   "id": "41f09364-e4d3-4c77-8197-3c013ad454df",
   "metadata": {},
   "outputs": [
    {
     "data": {
      "text/plain": [
       "[-10, -9, -8, -7, -6, -5, -4, -3, -2, -1]"
      ]
     },
     "execution_count": 28,
     "metadata": {},
     "output_type": "execute_result"
    }
   ],
   "source": [
    "list(range(-10,0,1))"
   ]
  },
  {
   "cell_type": "code",
   "execution_count": 56,
   "id": "0c91c7bb-a96e-4518-9b81-f31732dc71c5",
   "metadata": {},
   "outputs": [],
   "source": [
    "name=[\"md\",\"shahbaz\",\"ashraf\",\"abi\",\"khan\",\"seraj\"]"
   ]
  },
  {
   "cell_type": "code",
   "execution_count": 59,
   "id": "00008301-71b4-46ea-b1a1-90340afd62cd",
   "metadata": {},
   "outputs": [
    {
     "name": "stdout",
     "output_type": "stream",
     "text": [
      "seraj\n",
      "khan\n",
      "abi\n",
      "ashraf\n",
      "shahbaz\n"
     ]
    }
   ],
   "source": [
    "for i in range(len(name)-1,0,-1):\n",
    "    print(name[i])"
   ]
  },
  {
   "cell_type": "code",
   "execution_count": 50,
   "id": "1a7c772b-7c7c-4b88-89b9-8dc63519a45e",
   "metadata": {},
   "outputs": [
    {
     "data": {
      "text/plain": [
       "[6, 5, 4, 3, 2, 1]"
      ]
     },
     "execution_count": 50,
     "metadata": {},
     "output_type": "execute_result"
    }
   ],
   "source": []
  },
  {
   "cell_type": "code",
   "execution_count": 61,
   "id": "c91f9b4f-6234-4588-bff8-800fa28b5824",
   "metadata": {},
   "outputs": [
    {
     "data": {
      "text/plain": [
       "[5, 4, 3, 2, 1, 0]"
      ]
     },
     "execution_count": 61,
     "metadata": {},
     "output_type": "execute_result"
    }
   ],
   "source": [
    "list(range(len(name)-1,-1,-1))"
   ]
  },
  {
   "cell_type": "code",
   "execution_count": 63,
   "id": "91af2632-c475-4432-80e2-2f14bc1b0cf9",
   "metadata": {},
   "outputs": [],
   "source": [
    "l2=[22,45,88,12,45,44,63,33,25,10]  ## here wwe want list of even number"
   ]
  },
  {
   "cell_type": "code",
   "execution_count": 70,
   "id": "40ecfa71-bca3-4d18-8afd-d3c626f3a314",
   "metadata": {},
   "outputs": [
    {
     "data": {
      "text/plain": [
       "[1, 3, 5, 7, 9]"
      ]
     },
     "execution_count": 70,
     "metadata": {},
     "output_type": "execute_result"
    }
   ],
   "source": [
    "list(range(1,len(l2),2))"
   ]
  },
  {
   "cell_type": "code",
   "execution_count": 71,
   "id": "787abf84-411f-433d-87af-e31bf1ba9e70",
   "metadata": {},
   "outputs": [
    {
     "name": "stdout",
     "output_type": "stream",
     "text": [
      "45\n",
      "12\n",
      "44\n",
      "33\n",
      "10\n"
     ]
    }
   ],
   "source": [
    "for i in list(range(1,len(l2),2)):\n",
    "    print(l2[i])"
   ]
  },
  {
   "cell_type": "code",
   "execution_count": 10,
   "id": "21526296-12af-4bc5-b4a8-a78120913a94",
   "metadata": {},
   "outputs": [],
   "source": [
    "add=[1, 3, 5, 7, 9]"
   ]
  },
  {
   "cell_type": "code",
   "execution_count": 11,
   "id": "7b89ce79-85cf-4e9a-b3a8-09dc3dd88fda",
   "metadata": {},
   "outputs": [
    {
     "name": "stdout",
     "output_type": "stream",
     "text": [
      "25\n"
     ]
    }
   ],
   "source": [
    "ad=0\n",
    "for i in add:\n",
    "    ad=ad+i\n",
    "print(ad)\n",
    "    "
   ]
  },
  {
   "cell_type": "code",
   "execution_count": 13,
   "id": "75ffc6f3-6798-4827-99e6-ca62fed3ca8f",
   "metadata": {},
   "outputs": [
    {
     "data": {
      "text/plain": [
       "25"
      ]
     },
     "execution_count": 13,
     "metadata": {},
     "output_type": "execute_result"
    }
   ],
   "source": [
    "sum(add)"
   ]
  },
  {
   "cell_type": "code",
   "execution_count": 17,
   "id": "0f161b77-6b2c-4591-81ae-81329c02b233",
   "metadata": {},
   "outputs": [],
   "source": [
    "a = (1, 3, 5, 7, 9,11,)"
   ]
  },
  {
   "cell_type": "code",
   "execution_count": 18,
   "id": "d72b92c6-c7c1-4d09-a7af-24395d371108",
   "metadata": {},
   "outputs": [
    {
     "data": {
      "text/plain": [
       "25"
      ]
     },
     "execution_count": 18,
     "metadata": {},
     "output_type": "execute_result"
    }
   ],
   "source": [
    "sum(a)"
   ]
  },
  {
   "cell_type": "code",
   "execution_count": 19,
   "id": "bf567518-7a1d-4382-a6e5-093f19ea4ee7",
   "metadata": {},
   "outputs": [
    {
     "name": "stdout",
     "output_type": "stream",
     "text": [
      "1\n",
      "3\n",
      "5\n",
      "7\n",
      "9\n"
     ]
    }
   ],
   "source": [
    "for i in a:\n",
    "    print(i)"
   ]
  },
  {
   "cell_type": "code",
   "execution_count": 21,
   "id": "efe16111-816b-48af-bc5d-fa0c1621e1ba",
   "metadata": {},
   "outputs": [
    {
     "data": {
      "text/plain": [
       "[0, 1, 2, 3, 4, 5, 6, 7, 8, 9, 10, 11, 12, 13, 14, 15, 16, 17, 18, 19, 20]"
      ]
     },
     "execution_count": 21,
     "metadata": {},
     "output_type": "execute_result"
    }
   ],
   "source": [
    "list(range(21))"
   ]
  },
  {
   "cell_type": "code",
   "execution_count": 29,
   "id": "00690642-a670-40bc-86ad-a482c12a4405",
   "metadata": {},
   "outputs": [],
   "source": [
    "a1=[0, 1, 2, 3, 4, 5, 6, 7, 8, 9, 10, 11, 12, 13, 14, 15, 16]"
   ]
  },
  {
   "cell_type": "code",
   "execution_count": 30,
   "id": "d1b9af94-e344-457d-acb6-6c9ceb5abbdb",
   "metadata": {},
   "outputs": [
    {
     "data": {
      "text/plain": [
       "[0, 1, 2, 3, 4, 5, 6, 7, 8, 9, 10, 11, 12, 13, 14, 15, 16]"
      ]
     },
     "execution_count": 30,
     "metadata": {},
     "output_type": "execute_result"
    }
   ],
   "source": [
    "a1"
   ]
  },
  {
   "cell_type": "code",
   "execution_count": 31,
   "id": "107405a8-3514-4f36-8269-ad5005b1885c",
   "metadata": {},
   "outputs": [
    {
     "data": {
      "text/plain": [
       "[0, 2, 4, 6, 8, 10, 12, 14, 16]"
      ]
     },
     "execution_count": 31,
     "metadata": {},
     "output_type": "execute_result"
    }
   ],
   "source": [
    "## i wan't even number from list\n",
    "list(range(0,len(a1),2))"
   ]
  },
  {
   "cell_type": "code",
   "execution_count": 33,
   "id": "bb280761-c03a-4880-9300-c7eac890081d",
   "metadata": {},
   "outputs": [
    {
     "data": {
      "text/plain": [
       "17"
      ]
     },
     "execution_count": 33,
     "metadata": {},
     "output_type": "execute_result"
    }
   ],
   "source": [
    "len(a1)"
   ]
  },
  {
   "cell_type": "code",
   "execution_count": 34,
   "id": "3cade000-31be-439b-9887-f5ce6f04a627",
   "metadata": {},
   "outputs": [],
   "source": [
    "s1=\"abi khan\""
   ]
  },
  {
   "cell_type": "code",
   "execution_count": 36,
   "id": "05300bc2-0c5f-48a9-8008-a5a0d18774b5",
   "metadata": {},
   "outputs": [
    {
     "name": "stdout",
     "output_type": "stream",
     "text": [
      "a\n",
      "b\n",
      "i\n",
      " \n",
      "k\n",
      "h\n",
      "a\n",
      "n\n"
     ]
    }
   ],
   "source": [
    "for i in s1:\n",
    "    print(i)"
   ]
  },
  {
   "cell_type": "code",
   "execution_count": 37,
   "id": "704fec11-afc0-4a18-9f2c-b19d4c3a05fb",
   "metadata": {},
   "outputs": [],
   "source": [
    "s2={2,4,4,8,14,12,14,48,23}"
   ]
  },
  {
   "cell_type": "code",
   "execution_count": 38,
   "id": "77a255cb-e44e-4e23-9efc-1a64d301bb03",
   "metadata": {},
   "outputs": [
    {
     "name": "stdout",
     "output_type": "stream",
     "text": [
      "48\n",
      "2\n",
      "4\n",
      "23\n",
      "8\n",
      "12\n",
      "14\n"
     ]
    }
   ],
   "source": [
    "for i in s2:\n",
    "    print(i)"
   ]
  },
  {
   "cell_type": "code",
   "execution_count": null,
   "id": "76ab4f4f-6fac-4a37-8af5-c86c7b88c1ca",
   "metadata": {},
   "outputs": [],
   "source": [
    "for i in s2:\n",
    "    "
   ]
  },
  {
   "cell_type": "code",
   "execution_count": null,
   "id": "e718ffcb-5044-4adf-99a2-2d654faea5aa",
   "metadata": {},
   "outputs": [],
   "source": []
  },
  {
   "cell_type": "code",
   "execution_count": null,
   "id": "db9a7a5c-e5bd-43c3-927e-8775296cfec9",
   "metadata": {},
   "outputs": [],
   "source": []
  },
  {
   "cell_type": "code",
   "execution_count": null,
   "id": "33c71a3b-e467-4097-abd9-a88775fe0e64",
   "metadata": {},
   "outputs": [],
   "source": []
  },
  {
   "cell_type": "code",
   "execution_count": null,
   "id": "3b967af4-985d-49b6-8a65-1c4e059e0245",
   "metadata": {},
   "outputs": [],
   "source": []
  },
  {
   "cell_type": "code",
   "execution_count": null,
   "id": "e327062a-5aff-427f-894b-f21b0bb23e15",
   "metadata": {},
   "outputs": [],
   "source": []
  },
  {
   "cell_type": "code",
   "execution_count": null,
   "id": "f4c686f6-7134-4c63-bc78-751edf41bc68",
   "metadata": {},
   "outputs": [],
   "source": []
  },
  {
   "cell_type": "code",
   "execution_count": null,
   "id": "be532a6d-ae20-40d8-896f-2d6413bd2783",
   "metadata": {},
   "outputs": [],
   "source": []
  },
  {
   "cell_type": "code",
   "execution_count": null,
   "id": "b32befda-684e-4b60-a1e1-e7e3161c172a",
   "metadata": {},
   "outputs": [],
   "source": []
  },
  {
   "cell_type": "code",
   "execution_count": null,
   "id": "53c44c32-15e3-4a48-b0a7-93416d38f7a4",
   "metadata": {},
   "outputs": [],
   "source": []
  },
  {
   "cell_type": "code",
   "execution_count": null,
   "id": "5509daf5-0872-4ac2-b6fa-fea034339083",
   "metadata": {},
   "outputs": [],
   "source": []
  },
  {
   "cell_type": "code",
   "execution_count": null,
   "id": "be7546cb-aa1d-41d3-b6de-a9e7eca0cfd6",
   "metadata": {},
   "outputs": [],
   "source": []
  },
  {
   "cell_type": "code",
   "execution_count": 14,
   "id": "7f3ef9c2-729e-4f2e-8a90-0975645007ff",
   "metadata": {},
   "outputs": [
    {
     "name": "stdout",
     "output_type": "stream",
     "text": [
      "2\n",
      "3\n",
      "4\n",
      "5\n",
      "6\n",
      "7\n",
      "8\n",
      "9\n",
      "10\n",
      "11\n"
     ]
    }
   ],
   "source": [
    "a = 2 \n",
    "while a <= 11 :\n",
    "    print(a)\n",
    "    a=a+1\n",
    "    "
   ]
  },
  {
   "cell_type": "code",
   "execution_count": 53,
   "id": "20c8a189-2def-4f5c-8244-e5595de87087",
   "metadata": {},
   "outputs": [],
   "source": [
    "name = [\"abi\",\"khan\",\"shabaz\",\"ashraf\"]"
   ]
  },
  {
   "cell_type": "code",
   "execution_count": 58,
   "id": "bddd5740-c514-450b-8d0e-40d9fd9a72b4",
   "metadata": {},
   "outputs": [
    {
     "name": "stdout",
     "output_type": "stream",
     "text": [
      "Abi\n",
      "Khan\n",
      "Shabaz\n",
      "Ashraf\n"
     ]
    }
   ],
   "source": [
    "prop_name=[]\n",
    "for i in name :\n",
    "    print(i.capitalize())\n",
    "    prop_name.append(i.capitalize())"
   ]
  },
  {
   "cell_type": "code",
   "execution_count": 59,
   "id": "df52b3f5-db5c-4d5a-be92-8a3415a4f0f3",
   "metadata": {},
   "outputs": [
    {
     "data": {
      "text/plain": [
       "['Abi', 'Khan', 'Shabaz', 'Ashraf']"
      ]
     },
     "execution_count": 59,
     "metadata": {},
     "output_type": "execute_result"
    }
   ],
   "source": [
    "prop_name"
   ]
  },
  {
   "cell_type": "code",
   "execution_count": 62,
   "id": "8fe9d3e5-a051-458b-915e-b89e6a1061fc",
   "metadata": {},
   "outputs": [],
   "source": [
    "l5=[1,2,3,5,8,9,\"abi\",\"khan\",\"singh\",54,26,12.23]"
   ]
  },
  {
   "cell_type": "code",
   "execution_count": 63,
   "id": "5699a55b-7fe1-4b42-adc4-3168987fc196",
   "metadata": {},
   "outputs": [],
   "source": [
    "l6_in = []\n",
    "l7_st = []\n",
    "for i in l5 :\n",
    " if type(i) == int or type(i)==float :\n",
    "     l6_in.append(i)\n",
    " else :\n",
    "     l7_st.append(i)\n",
    "    "
   ]
  },
  {
   "cell_type": "code",
   "execution_count": 64,
   "id": "afd3e11c-3a5b-4822-9959-ebb1c762edd1",
   "metadata": {},
   "outputs": [
    {
     "data": {
      "text/plain": [
       "[1, 2, 3, 5, 8, 9, 54, 26, 12.23]"
      ]
     },
     "execution_count": 64,
     "metadata": {},
     "output_type": "execute_result"
    }
   ],
   "source": [
    "l6_in"
   ]
  },
  {
   "cell_type": "code",
   "execution_count": 65,
   "id": "92f03d81-b46e-4493-9a54-e65e2bca5f62",
   "metadata": {},
   "outputs": [
    {
     "data": {
      "text/plain": [
       "['abi', 'khan', 'singh']"
      ]
     },
     "execution_count": 65,
     "metadata": {},
     "output_type": "execute_result"
    }
   ],
   "source": [
    "l7_st"
   ]
  },
  {
   "cell_type": "code",
   "execution_count": null,
   "id": "a6746a8e-3390-41e7-8379-fe8b83101e00",
   "metadata": {},
   "outputs": [],
   "source": []
  },
  {
   "cell_type": "code",
   "execution_count": null,
   "id": "43031611-01bf-40da-a27b-3c12e1f7af43",
   "metadata": {},
   "outputs": [],
   "source": []
  },
  {
   "cell_type": "code",
   "execution_count": null,
   "id": "97ba2cae-cbf5-492f-b936-5ac031571796",
   "metadata": {},
   "outputs": [],
   "source": []
  },
  {
   "cell_type": "code",
   "execution_count": null,
   "id": "c70dd289-f2bb-411a-a91b-9539a4e3887e",
   "metadata": {},
   "outputs": [],
   "source": []
  },
  {
   "cell_type": "code",
   "execution_count": null,
   "id": "8866cfd5-cef5-4ada-8372-e8a58333f0cd",
   "metadata": {},
   "outputs": [],
   "source": []
  },
  {
   "cell_type": "code",
   "execution_count": null,
   "id": "5672d6ab-6389-4602-991f-24386e31aad7",
   "metadata": {},
   "outputs": [],
   "source": []
  }
 ],
 "metadata": {
  "kernelspec": {
   "display_name": "Python 3 (ipykernel)",
   "language": "python",
   "name": "python3"
  },
  "language_info": {
   "codemirror_mode": {
    "name": "ipython",
    "version": 3
   },
   "file_extension": ".py",
   "mimetype": "text/x-python",
   "name": "python",
   "nbconvert_exporter": "python",
   "pygments_lexer": "ipython3",
   "version": "3.10.8"
  }
 },
 "nbformat": 4,
 "nbformat_minor": 5
}
