{
 "cells": [
  {
   "cell_type": "code",
   "execution_count": 1,
   "id": "0c4b6b4a-27a7-4b7b-bc7a-643f4ed42029",
   "metadata": {},
   "outputs": [],
   "source": [
    "### write custom functiion \n",
    "## with the help of custom function you can do same task just by caalling function name without writing same code again"
   ]
  },
  {
   "cell_type": "code",
   "execution_count": 3,
   "id": "add0e8b6-fc5f-419a-844d-874693fc4e8b",
   "metadata": {},
   "outputs": [],
   "source": [
    "def test1():\n",
    "    print(\"this is my very first function\")"
   ]
  },
  {
   "cell_type": "code",
   "execution_count": 6,
   "id": "7b833e0f-3474-426b-bd38-b0877bd14a55",
   "metadata": {},
   "outputs": [
    {
     "name": "stdout",
     "output_type": "stream",
     "text": [
      "this is my very first function\n"
     ]
    }
   ],
   "source": [
    "test1()"
   ]
  },
  {
   "cell_type": "code",
   "execution_count": 8,
   "id": "86f09d7c-8ead-4689-bfc0-ca7ef1715e8f",
   "metadata": {},
   "outputs": [
    {
     "name": "stdout",
     "output_type": "stream",
     "text": [
      "this is my very first function\n"
     ]
    },
    {
     "ename": "TypeError",
     "evalue": "unsupported operand type(s) for +: 'NoneType' and 'str'",
     "output_type": "error",
     "traceback": [
      "\u001b[0;31m---------------------------------------------------------------------------\u001b[0m",
      "\u001b[0;31mTypeError\u001b[0m                                 Traceback (most recent call last)",
      "Cell \u001b[0;32mIn[8], line 1\u001b[0m\n\u001b[0;32m----> 1\u001b[0m \u001b[43mtest1\u001b[49m\u001b[43m(\u001b[49m\u001b[43m)\u001b[49m\u001b[38;5;241;43m+\u001b[39;49m\u001b[38;5;124;43m\"\u001b[39;49m\u001b[38;5;124;43mshahbaz\u001b[39;49m\u001b[38;5;124;43m\"\u001b[39;49m   \u001b[38;5;66;03m### error print always return none type\u001b[39;00m\n",
      "\u001b[0;31mTypeError\u001b[0m: unsupported operand type(s) for +: 'NoneType' and 'str'"
     ]
    }
   ],
   "source": [
    "test1()+\"shahbaz\"   ### error print always return none type"
   ]
  },
  {
   "cell_type": "code",
   "execution_count": 9,
   "id": "89a1a6fc-d20f-4184-9814-bb7b2bdca51a",
   "metadata": {},
   "outputs": [],
   "source": [
    "def test2():\n",
    "    return \"this is my function \""
   ]
  },
  {
   "cell_type": "code",
   "execution_count": 10,
   "id": "16fe6a24-8a0c-42b1-a63d-45a1edb8fc6c",
   "metadata": {},
   "outputs": [
    {
     "data": {
      "text/plain": [
       "'this is my function '"
      ]
     },
     "execution_count": 10,
     "metadata": {},
     "output_type": "execute_result"
    }
   ],
   "source": [
    "test2()"
   ]
  },
  {
   "cell_type": "code",
   "execution_count": 11,
   "id": "5c8325fd-8287-41af-96fe-61fe08ecaf29",
   "metadata": {},
   "outputs": [
    {
     "data": {
      "text/plain": [
       "'this is my function md shahbaz ashraf'"
      ]
     },
     "execution_count": 11,
     "metadata": {},
     "output_type": "execute_result"
    }
   ],
   "source": [
    "test2()+\"md shahbaz ashraf\"    ## return \"key word\" return as it is "
   ]
  },
  {
   "cell_type": "code",
   "execution_count": 12,
   "id": "e15664c2-5a96-482f-9b4b-d855c0f70e68",
   "metadata": {},
   "outputs": [],
   "source": [
    "def test3():\n",
    "    return \"shahbaz\",23,25,45.23,[1,23,4,5,6]"
   ]
  },
  {
   "cell_type": "code",
   "execution_count": 14,
   "id": "eecd20bf-6c14-4047-aeae-47a8b9eade0c",
   "metadata": {},
   "outputs": [],
   "source": [
    "A=test3()"
   ]
  },
  {
   "cell_type": "code",
   "execution_count": 21,
   "id": "d9ae6c2a-5af2-4943-a0b8-46b0508a75e1",
   "metadata": {},
   "outputs": [],
   "source": [
    "a,b,c,d,e=test3()"
   ]
  },
  {
   "cell_type": "code",
   "execution_count": 22,
   "id": "5687ad88-b567-4b4d-9165-843abc18f7a1",
   "metadata": {},
   "outputs": [
    {
     "data": {
      "text/plain": [
       "[1, 23, 4, 5, 6]"
      ]
     },
     "execution_count": 22,
     "metadata": {},
     "output_type": "execute_result"
    }
   ],
   "source": [
    "e"
   ]
  },
  {
   "cell_type": "code",
   "execution_count": 25,
   "id": "b0ec248e-2bb6-4057-aec9-4575ec983053",
   "metadata": {},
   "outputs": [
    {
     "data": {
      "text/plain": [
       "45.23"
      ]
     },
     "execution_count": 25,
     "metadata": {},
     "output_type": "execute_result"
    }
   ],
   "source": [
    "d"
   ]
  },
  {
   "cell_type": "code",
   "execution_count": 1,
   "id": "2f259a81-48c4-47d3-a7e6-1a932d398371",
   "metadata": {},
   "outputs": [],
   "source": [
    "#&&&&&&&  input not showing\n",
    "def test5():\n",
    "    dividend=int(input(\"plz input dividend\"))\n",
    "    divisor=int(input(\"plz input divisor\"))\n",
    "    r=dividend/divisor\n",
    "    return r"
   ]
  },
  {
   "cell_type": "code",
   "execution_count": 3,
   "id": "5c80eb09-28c7-42fd-8cf6-682e264bf5ff",
   "metadata": {},
   "outputs": [
    {
     "name": "stdout",
     "output_type": "stream",
     "text": [
      "plz input dividend 20\n",
      "plz input divisor 40\n"
     ]
    },
    {
     "data": {
      "text/plain": [
       "0.5"
      ]
     },
     "execution_count": 3,
     "metadata": {},
     "output_type": "execute_result"
    }
   ],
   "source": [
    "test5()"
   ]
  },
  {
   "cell_type": "code",
   "execution_count": 37,
   "id": "9ce20781-534b-4633-9577-0064e0e0cca2",
   "metadata": {},
   "outputs": [],
   "source": [
    "def test6():\n",
    "    dividend= 20\n",
    "    divisor= 2\n",
    "    r=dividend/divisor\n",
    "    return r"
   ]
  },
  {
   "cell_type": "code",
   "execution_count": 39,
   "id": "4a27faf3-e523-4240-8d34-d6555da50075",
   "metadata": {},
   "outputs": [
    {
     "data": {
      "text/plain": [
       "10.0"
      ]
     },
     "execution_count": 39,
     "metadata": {},
     "output_type": "execute_result"
    }
   ],
   "source": [
    "test6()"
   ]
  },
  {
   "cell_type": "code",
   "execution_count": 45,
   "id": "80781906-ee6d-41e6-9e5a-7c9207c76785",
   "metadata": {},
   "outputs": [
    {
     "name": "stdout",
     "output_type": "stream",
     "text": [
      "plz input dividend 200\n",
      "plz input divisor 10\n"
     ]
    },
    {
     "data": {
      "text/plain": [
       "20.0"
      ]
     },
     "execution_count": 45,
     "metadata": {},
     "output_type": "execute_result"
    }
   ],
   "source": [
    "test5()"
   ]
  },
  {
   "cell_type": "code",
   "execution_count": 47,
   "id": "5fcebae6-4e4f-4213-8484-7fb6f529932e",
   "metadata": {},
   "outputs": [],
   "source": [
    "def test7(a,b):   \n",
    "    return a+b"
   ]
  },
  {
   "cell_type": "code",
   "execution_count": 53,
   "id": "3f71be6c-6434-4d60-b117-780b4942c832",
   "metadata": {},
   "outputs": [
    {
     "data": {
      "text/plain": [
       "17"
      ]
     },
     "execution_count": 53,
     "metadata": {},
     "output_type": "execute_result"
    }
   ],
   "source": [
    "test7(12,5)"
   ]
  },
  {
   "cell_type": "code",
   "execution_count": 54,
   "id": "4d4eeeba-7fdf-45c6-b27d-aa074825176c",
   "metadata": {},
   "outputs": [
    {
     "data": {
      "text/plain": [
       "'sugharpit'"
      ]
     },
     "execution_count": 54,
     "metadata": {},
     "output_type": "execute_result"
    }
   ],
   "source": [
    "test7(\"sugh\",\"arpit\")"
   ]
  },
  {
   "cell_type": "code",
   "execution_count": 55,
   "id": "eb94034d-e984-47fb-a2fe-35012021b02f",
   "metadata": {},
   "outputs": [
    {
     "ename": "TypeError",
     "evalue": "can only concatenate str (not \"int\") to str",
     "output_type": "error",
     "traceback": [
      "\u001b[0;31m---------------------------------------------------------------------------\u001b[0m",
      "\u001b[0;31mTypeError\u001b[0m                                 Traceback (most recent call last)",
      "Cell \u001b[0;32mIn[55], line 1\u001b[0m\n\u001b[0;32m----> 1\u001b[0m test7(\u001b[38;5;124;43m\"\u001b[39;49m\u001b[38;5;124;43mshahbaz\u001b[39;49m\u001b[38;5;124;43m\"\u001b[39;49m\u001b[38;5;241;43m+\u001b[39;49m\u001b[38;5;241;43m4\u001b[39;49m)\n",
      "\u001b[0;31mTypeError\u001b[0m: can only concatenate str (not \"int\") to str"
     ]
    }
   ],
   "source": [
    "test7(\"shahbaz\"+4)"
   ]
  },
  {
   "cell_type": "code",
   "execution_count": 5,
   "id": "1977aac7-6f12-48db-ade9-e57f157c1efb",
   "metadata": {},
   "outputs": [
    {
     "name": "stdout",
     "output_type": "stream",
     "text": [
      "[4, 7, 34, 25, 36]\n",
      "['md', 'shahbaz', 'ashraf']\n"
     ]
    }
   ],
   "source": [
    "## u have given list from which u have to segregate integer and string into seperate list\n",
    "\n",
    "q=[4,7,\"md\",34,\"shahbaz\",\"ashraf\",25,36]\n",
    "\n",
    "intt=[]\n",
    "strin=[]\n",
    "\n",
    "for i in q:\n",
    "    if type(i)==int or type(i)==float:\n",
    "        intt.append(i)\n",
    "    else:\n",
    "        strin.append(i)\n",
    "print(intt) \n",
    "print(strin) "
   ]
  },
  {
   "cell_type": "code",
   "execution_count": 71,
   "id": "5911997d-2109-43c8-9cba-fdaa495760aa",
   "metadata": {},
   "outputs": [
    {
     "data": {
      "text/plain": [
       "['md', 'shahbaz', 'ashraf']"
      ]
     },
     "execution_count": 71,
     "metadata": {},
     "output_type": "execute_result"
    }
   ],
   "source": [
    "[i for i in q if type(i)==int]\n",
    "[i for i in q if type(i)==str]"
   ]
  },
  {
   "cell_type": "code",
   "execution_count": 72,
   "id": "d4cf98d7-e32e-448e-84e3-53aa59a32974",
   "metadata": {},
   "outputs": [
    {
     "data": {
      "text/plain": [
       "['md', 'shahbaz', 'ashraf']"
      ]
     },
     "execution_count": 72,
     "metadata": {},
     "output_type": "execute_result"
    }
   ],
   "source": [
    "[i for i in q if type(i)==str]"
   ]
  },
  {
   "cell_type": "code",
   "execution_count": 73,
   "id": "7d25d11f-18aa-42b4-b304-0a34e6288839",
   "metadata": {},
   "outputs": [
    {
     "data": {
      "text/plain": [
       "[4, 7, 'md', 34, 'shahbaz', 'ashraf', 25, 36]"
      ]
     },
     "execution_count": 73,
     "metadata": {},
     "output_type": "execute_result"
    }
   ],
   "source": [
    "q"
   ]
  },
  {
   "cell_type": "code",
   "execution_count": 110,
   "id": "5bf06fbe-89da-443e-937f-17149f4940ac",
   "metadata": {},
   "outputs": [],
   "source": [
    "def seg(l):\n",
    "    t=[]\n",
    "    d=[]\n",
    "    for i in l:\n",
    "        if type(i)==int:\n",
    "            d.append(i)\n",
    "        else:\n",
    "            t.append(i)\n",
    "    return t,d"
   ]
  },
  {
   "cell_type": "code",
   "execution_count": 111,
   "id": "258cd71a-7b41-4d59-bfde-e0edb8adb8ce",
   "metadata": {},
   "outputs": [
    {
     "data": {
      "text/plain": [
       "(['md', 'shahbaz', 'ashraf'], [4, 7, 34, 25, 36])"
      ]
     },
     "execution_count": 111,
     "metadata": {},
     "output_type": "execute_result"
    }
   ],
   "source": [
    "seg(q)"
   ]
  },
  {
   "cell_type": "code",
   "execution_count": null,
   "id": "5208dd8f-15c9-48cf-989a-f65bcfba09fc",
   "metadata": {},
   "outputs": [],
   "source": []
  },
  {
   "cell_type": "code",
   "execution_count": 127,
   "id": "5f8a88a2-8d34-48b0-853c-65548691ac54",
   "metadata": {},
   "outputs": [],
   "source": [
    "## problem - make a function which segregate integer and string into different list includinhg list inside list\n",
    "\n",
    "q=[4,7,\"md\",34,\"shahbaz\",\"ashraf\",25,36,[2,5,6,7,8,9]]\n",
    "\n",
    "def segregator():\n",
    "    a=[]\n",
    "    b=[]\n",
    "    for i in q:\n",
    "        if type(i)==list :\n",
    "            for j in i :\n",
    "                a.append(j)\n",
    "        else :\n",
    "            if type(i)== int or type(i)==float:\n",
    "                a.append(i)\n",
    "            else:\n",
    "                if type(i)==str:\n",
    "                    b.append(i)\n",
    "    return a ,b\n",
    "\n"
   ]
  },
  {
   "cell_type": "code",
   "execution_count": 128,
   "id": "0554f29b-6857-453e-a509-fcfaf65f043c",
   "metadata": {},
   "outputs": [
    {
     "data": {
      "text/plain": [
       "([4, 7, 34, 25, 36, 2, 5, 6, 7, 8, 9], ['md', 'shahbaz', 'ashraf'])"
      ]
     },
     "execution_count": 128,
     "metadata": {},
     "output_type": "execute_result"
    }
   ],
   "source": [
    "segregator()"
   ]
  },
  {
   "cell_type": "code",
   "execution_count": 10,
   "id": "cbd24af8-7479-494c-8640-3e0dd7e50267",
   "metadata": {},
   "outputs": [],
   "source": [
    "\n",
    "## doc string \n",
    "\n",
    "def segregator(w):\n",
    "    \"\"\"this function segregate integer and string into different list\"\"\"\n",
    "    a=[]\n",
    "    b=[]\n",
    "    for i in w:\n",
    "        if type(i)==list :\n",
    "            for j in i :\n",
    "                a.append(j)\n",
    "        else :\n",
    "            if type(i)== int or type(i)==float:\n",
    "                a.append(i)\n",
    "            else:\n",
    "                if type(i)==str:\n",
    "                    b.append(i)\n",
    "    return a ,b\n"
   ]
  },
  {
   "cell_type": "code",
   "execution_count": 11,
   "id": "2853e2e6-bc87-4961-9804-cc6ac8c5779a",
   "metadata": {},
   "outputs": [
    {
     "data": {
      "text/plain": [
       "([4, 7, 34, 25, 36], ['md', 'shahbaz', 'ashraf'])"
      ]
     },
     "execution_count": 11,
     "metadata": {},
     "output_type": "execute_result"
    }
   ],
   "source": [
    "segregator(q)"
   ]
  },
  {
   "cell_type": "code",
   "execution_count": 12,
   "id": "b0bb90f2-820c-4755-b25e-d7c76aa30277",
   "metadata": {},
   "outputs": [],
   "source": [
    "def summation(a,b):\n",
    "    v=a+b\n",
    "    return v"
   ]
  },
  {
   "cell_type": "code",
   "execution_count": 13,
   "id": "e87671bd-2401-41eb-be60-ddb31692aaee",
   "metadata": {},
   "outputs": [
    {
     "data": {
      "text/plain": [
       "3"
      ]
     },
     "execution_count": 13,
     "metadata": {},
     "output_type": "execute_result"
    }
   ],
   "source": [
    "summation(1,2)"
   ]
  },
  {
   "cell_type": "code",
   "execution_count": 16,
   "id": "2c5b8d05-5dea-4b0e-a039-51e0cd84751b",
   "metadata": {},
   "outputs": [],
   "source": [
    "def summation(*args):\n",
    "    return args"
   ]
  },
  {
   "cell_type": "code",
   "execution_count": 17,
   "id": "1dd66a1e-5560-44ab-be8a-e58c0560204e",
   "metadata": {},
   "outputs": [
    {
     "data": {
      "text/plain": [
       "(1, 2, 3, 4)"
      ]
     },
     "execution_count": 17,
     "metadata": {},
     "output_type": "execute_result"
    }
   ],
   "source": [
    "summation(1,2,3,4)"
   ]
  },
  {
   "cell_type": "code",
   "execution_count": 20,
   "id": "df4e4182-9306-4d6f-9ba7-11fe49868182",
   "metadata": {},
   "outputs": [],
   "source": [
    "def summation1(*args):\n",
    "    '''this function returns summation of provided number'''\n",
    "    a=0\n",
    "    for i in args:\n",
    "        a=a+i\n",
    "    return a"
   ]
  },
  {
   "cell_type": "code",
   "execution_count": 23,
   "id": "ae2f1e8c-cf88-4f54-98cd-c7036dfb73ed",
   "metadata": {},
   "outputs": [
    {
     "data": {
      "text/plain": [
       "504"
      ]
     },
     "execution_count": 23,
     "metadata": {},
     "output_type": "execute_result"
    }
   ],
   "source": [
    "summation1(1,2,3,-4,4,45,85,74,98,12,45,74,65)"
   ]
  },
  {
   "cell_type": "code",
   "execution_count": 28,
   "id": "64870f52-edf3-450d-a5a0-ec5f4a2ccb05",
   "metadata": {},
   "outputs": [],
   "source": [
    "l1=[12,34,54,67,87,99,76,5,23,54]"
   ]
  },
  {
   "cell_type": "code",
   "execution_count": 29,
   "id": "414e0e15-bfa0-4c3a-b41f-d35d539077db",
   "metadata": {},
   "outputs": [
    {
     "data": {
      "text/plain": [
       "511"
      ]
     },
     "execution_count": 29,
     "metadata": {},
     "output_type": "execute_result"
    }
   ],
   "source": [
    "sum(l1)"
   ]
  },
  {
   "cell_type": "code",
   "execution_count": 32,
   "id": "14c0feaa-ed22-471b-9062-095539366830",
   "metadata": {},
   "outputs": [],
   "source": [
    " def test14(*args):\n",
    "    return args"
   ]
  },
  {
   "cell_type": "code",
   "execution_count": 33,
   "id": "ae6fd755-2637-4903-bdf1-c17446dc436f",
   "metadata": {},
   "outputs": [
    {
     "data": {
      "text/plain": [
       "(1, 2, 'md ', 'shabaz', 4.25)"
      ]
     },
     "execution_count": 33,
     "metadata": {},
     "output_type": "execute_result"
    }
   ],
   "source": [
    "test14(1,2,\"md \",\"shabaz\",4.25)"
   ]
  },
  {
   "cell_type": "code",
   "execution_count": 3,
   "id": "31a9d041-5976-4c85-a6ec-c4841f5b104b",
   "metadata": {},
   "outputs": [],
   "source": [
    "def test15(**kwargs):\n",
    "    return kwargs"
   ]
  },
  {
   "cell_type": "code",
   "execution_count": 5,
   "id": "3d267eae-1c6b-40af-8a20-a2433e7aacfa",
   "metadata": {},
   "outputs": [
    {
     "data": {
      "text/plain": [
       "dict"
      ]
     },
     "execution_count": 5,
     "metadata": {},
     "output_type": "execute_result"
    }
   ],
   "source": [
    "type(test15())"
   ]
  },
  {
   "cell_type": "code",
   "execution_count": 6,
   "id": "723cb908-3951-41a8-b82b-72449c34fc7e",
   "metadata": {},
   "outputs": [
    {
     "data": {
      "text/plain": [
       "{'a': [2, 4, 5, 6, 8, 7, 10], 'b': 'shahbaz', 'c': 'Ashraf'}"
      ]
     },
     "execution_count": 6,
     "metadata": {},
     "output_type": "execute_result"
    }
   ],
   "source": [
    "test15(a=[2,4,5,6,8,7,10],b=\"shahbaz\",c=\"Ashraf\")"
   ]
  },
  {
   "cell_type": "code",
   "execution_count": 23,
   "id": "a0ade2ba-097e-4dca-a364-f808f977752b",
   "metadata": {},
   "outputs": [],
   "source": [
    "def tt(v):\n",
    "    for i in list(range(1,11,1)):\n",
    "        yield(i*v)"
   ]
  },
  {
   "cell_type": "code",
   "execution_count": 31,
   "id": "4db683f5-3d9e-484b-8691-9136da5717ba",
   "metadata": {},
   "outputs": [
    {
     "ename": "TypeError",
     "evalue": "'function' object is not iterable",
     "output_type": "error",
     "traceback": [
      "\u001b[0;31m---------------------------------------------------------------------------\u001b[0m",
      "\u001b[0;31mTypeError\u001b[0m                                 Traceback (most recent call last)",
      "Cell \u001b[0;32mIn[31], line 2\u001b[0m\n\u001b[1;32m      1\u001b[0m tt(\u001b[38;5;241m4\u001b[39m)\n\u001b[0;32m----> 2\u001b[0m \u001b[38;5;28;01mfor\u001b[39;00m i \u001b[38;5;129;01min\u001b[39;00m tt:\n\u001b[1;32m      3\u001b[0m     \u001b[38;5;28mprint\u001b[39m(i)\n",
      "\u001b[0;31mTypeError\u001b[0m: 'function' object is not iterable"
     ]
    }
   ],
   "source": [
    "tt(4)\n",
    "for i in tt:\n",
    "    print(i)"
   ]
  },
  {
   "cell_type": "code",
   "execution_count": 5,
   "id": "17f4a461-3904-466c-a3d8-dffb6bdafab1",
   "metadata": {},
   "outputs": [
    {
     "data": {
      "text/plain": [
       "[0, 1, 2, 3, 4, 5, 6, 7, 8, 9]"
      ]
     },
     "execution_count": 5,
     "metadata": {},
     "output_type": "execute_result"
    }
   ],
   "source": [
    "list(range(10))"
   ]
  },
  {
   "cell_type": "code",
   "execution_count": 24,
   "id": "4301dc14-91d9-4d3c-b49d-ff6b25cd08d4",
   "metadata": {},
   "outputs": [
    {
     "ename": "NameError",
     "evalue": "name 'v' is not defined",
     "output_type": "error",
     "traceback": [
      "\u001b[0;31m---------------------------------------------------------------------------\u001b[0m",
      "\u001b[0;31mNameError\u001b[0m                                 Traceback (most recent call last)",
      "Cell \u001b[0;32mIn[24], line 1\u001b[0m\n\u001b[0;32m----> 1\u001b[0m \u001b[43mv\u001b[49m\n",
      "\u001b[0;31mNameError\u001b[0m: name 'v' is not defined"
     ]
    }
   ],
   "source": [
    "v"
   ]
  },
  {
   "cell_type": "code",
   "execution_count": 27,
   "id": "99b22162-95b7-4109-be21-f463fb29f8e8",
   "metadata": {},
   "outputs": [],
   "source": [
    "g=[3,5,6,7,8,\"md\",\"shahbaz\",[4,5,6,7,\"junaid\"]]"
   ]
  },
  {
   "cell_type": "code",
   "execution_count": 34,
   "id": "7a44703f-807e-4ad9-ae42-09005d61560c",
   "metadata": {},
   "outputs": [],
   "source": [
    "\n",
    "## write a function which segregate given list into  tow different list numbe and text\n",
    "def segregator3 (k):\n",
    "    r=[]\n",
    "    u=[]\n",
    "    for i in k:\n",
    "        if type(i)==list:\n",
    "            for j in i :\n",
    "                if type(j)==int or type(j)==float:\n",
    "                    r.append(j)\n",
    "                else:\n",
    "                    if type(j)==str:\n",
    "                        u.append(j)\n",
    "        else:\n",
    "            if type(i)==int or type(i)==float:\n",
    "                    r.append(i)\n",
    "            if type(i)==str:\n",
    "                    u.append(i)\n",
    "    return u,r"
   ]
  },
  {
   "cell_type": "code",
   "execution_count": 35,
   "id": "792f6432-a60e-482e-9db6-fdd93e28465d",
   "metadata": {},
   "outputs": [
    {
     "data": {
      "text/plain": [
       "(['md', 'shahbaz', 'junaid'], [3, 5, 6, 7, 8, 4, 5, 6, 7])"
      ]
     },
     "execution_count": 35,
     "metadata": {},
     "output_type": "execute_result"
    }
   ],
   "source": [
    "segregator3(g)"
   ]
  },
  {
   "cell_type": "code",
   "execution_count": 7,
   "id": "39035714-2e77-446f-8ed3-f6f43db4e421",
   "metadata": {},
   "outputs": [
    {
     "data": {
      "text/plain": [
       "[3, 5, 6, 7, 8, 'md', 'shahbaz', [4, 5, 6, 7, 'junaid']]"
      ]
     },
     "execution_count": 7,
     "metadata": {},
     "output_type": "execute_result"
    }
   ],
   "source": [
    "g"
   ]
  },
  {
   "cell_type": "code",
   "execution_count": 2,
   "id": "191f502b-5b85-4444-ad12-ab4b5d100a31",
   "metadata": {},
   "outputs": [
    {
     "data": {
      "text/plain": [
       "'c:\\\\python code\\\\python_practice\\\\intermediary'"
      ]
     },
     "execution_count": 2,
     "metadata": {},
     "output_type": "execute_result"
    }
   ],
   "source": [
    "pwd"
   ]
  },
  {
   "cell_type": "code",
   "execution_count": null,
   "id": "f75f8860",
   "metadata": {},
   "outputs": [],
   "source": []
  }
 ],
 "metadata": {
  "kernelspec": {
   "display_name": "Python 3 (ipykernel)",
   "language": "python",
   "name": "python3"
  },
  "language_info": {
   "codemirror_mode": {
    "name": "ipython",
    "version": 3
   },
   "file_extension": ".py",
   "mimetype": "text/x-python",
   "name": "python",
   "nbconvert_exporter": "python",
   "pygments_lexer": "ipython3",
   "version": "3.10.8"
  }
 },
 "nbformat": 4,
 "nbformat_minor": 5
}
